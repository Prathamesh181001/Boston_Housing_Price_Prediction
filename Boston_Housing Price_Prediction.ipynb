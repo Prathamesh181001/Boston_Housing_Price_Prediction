{
 "cells": [
  {
   "cell_type": "code",
   "execution_count": 4,
   "id": "e79201e0",
   "metadata": {},
   "outputs": [],
   "source": [
    "import pandas as pd\n",
    "import numpy as np\n",
    "import matplotlib.pyplot as plt\n",
    "%matplotlib inline"
   ]
  },
  {
   "cell_type": "code",
   "execution_count": 6,
   "id": "2b897d8e",
   "metadata": {},
   "outputs": [
    {
     "name": "stderr",
     "output_type": "stream",
     "text": [
      "C:\\Users\\Dell\\anaconda3\\Lib\\site-packages\\sklearn\\datasets\\_openml.py:1002: FutureWarning: The default value of `parser` will change from `'liac-arff'` to `'auto'` in 1.4. You can set `parser='auto'` to silence this warning. Therefore, an `ImportError` will be raised from 1.4 if the dataset is dense and pandas is not installed. Note that the pandas parser may return different data types. See the Notes Section in fetch_openml's API doc for details.\n",
      "  warn(\n"
     ]
    }
   ],
   "source": [
    "from sklearn.datasets import fetch_openml\n",
    "\n",
    "# Load the Boston Housing dataset\n",
    "boston = fetch_openml(data_id=42165)"
   ]
  },
  {
   "cell_type": "code",
   "execution_count": 7,
   "id": "15d2943e",
   "metadata": {},
   "outputs": [
    {
     "data": {
      "text/plain": [
       "{'data':         Id  MSSubClass MSZoning  LotFrontage  LotArea Street Alley LotShape  \\\n",
       " 0        1          60       RL         65.0     8450   Pave   NaN      Reg   \n",
       " 1        2          20       RL         80.0     9600   Pave   NaN      Reg   \n",
       " 2        3          60       RL         68.0    11250   Pave   NaN      IR1   \n",
       " 3        4          70       RL         60.0     9550   Pave   NaN      IR1   \n",
       " 4        5          60       RL         84.0    14260   Pave   NaN      IR1   \n",
       " ...    ...         ...      ...          ...      ...    ...   ...      ...   \n",
       " 1455  1456          60       RL         62.0     7917   Pave   NaN      Reg   \n",
       " 1456  1457          20       RL         85.0    13175   Pave   NaN      Reg   \n",
       " 1457  1458          70       RL         66.0     9042   Pave   NaN      Reg   \n",
       " 1458  1459          20       RL         68.0     9717   Pave   NaN      Reg   \n",
       " 1459  1460          20       RL         75.0     9937   Pave   NaN      Reg   \n",
       " \n",
       "      LandContour Utilities  ... ScreenPorch PoolArea PoolQC  Fence  \\\n",
       " 0            Lvl    AllPub  ...           0        0    NaN    NaN   \n",
       " 1            Lvl    AllPub  ...           0        0    NaN    NaN   \n",
       " 2            Lvl    AllPub  ...           0        0    NaN    NaN   \n",
       " 3            Lvl    AllPub  ...           0        0    NaN    NaN   \n",
       " 4            Lvl    AllPub  ...           0        0    NaN    NaN   \n",
       " ...          ...       ...  ...         ...      ...    ...    ...   \n",
       " 1455         Lvl    AllPub  ...           0        0    NaN    NaN   \n",
       " 1456         Lvl    AllPub  ...           0        0    NaN  MnPrv   \n",
       " 1457         Lvl    AllPub  ...           0        0    NaN  GdPrv   \n",
       " 1458         Lvl    AllPub  ...           0        0    NaN    NaN   \n",
       " 1459         Lvl    AllPub  ...           0        0    NaN    NaN   \n",
       " \n",
       "      MiscFeature MiscVal MoSold  YrSold  SaleType  SaleCondition  \n",
       " 0            NaN       0      2    2008        WD         Normal  \n",
       " 1            NaN       0      5    2007        WD         Normal  \n",
       " 2            NaN       0      9    2008        WD         Normal  \n",
       " 3            NaN       0      2    2006        WD        Abnorml  \n",
       " 4            NaN       0     12    2008        WD         Normal  \n",
       " ...          ...     ...    ...     ...       ...            ...  \n",
       " 1455         NaN       0      8    2007        WD         Normal  \n",
       " 1456         NaN       0      2    2010        WD         Normal  \n",
       " 1457        Shed    2500      5    2010        WD         Normal  \n",
       " 1458         NaN       0      4    2010        WD         Normal  \n",
       " 1459         NaN       0      6    2008        WD         Normal  \n",
       " \n",
       " [1460 rows x 80 columns],\n",
       " 'target': 0       208500\n",
       " 1       181500\n",
       " 2       223500\n",
       " 3       140000\n",
       " 4       250000\n",
       "          ...  \n",
       " 1455    175000\n",
       " 1456    210000\n",
       " 1457    266500\n",
       " 1458    142125\n",
       " 1459    147500\n",
       " Name: SalePrice, Length: 1460, dtype: int64,\n",
       " 'frame':         Id  MSSubClass MSZoning  LotFrontage  LotArea Street Alley LotShape  \\\n",
       " 0        1          60       RL         65.0     8450   Pave   NaN      Reg   \n",
       " 1        2          20       RL         80.0     9600   Pave   NaN      Reg   \n",
       " 2        3          60       RL         68.0    11250   Pave   NaN      IR1   \n",
       " 3        4          70       RL         60.0     9550   Pave   NaN      IR1   \n",
       " 4        5          60       RL         84.0    14260   Pave   NaN      IR1   \n",
       " ...    ...         ...      ...          ...      ...    ...   ...      ...   \n",
       " 1455  1456          60       RL         62.0     7917   Pave   NaN      Reg   \n",
       " 1456  1457          20       RL         85.0    13175   Pave   NaN      Reg   \n",
       " 1457  1458          70       RL         66.0     9042   Pave   NaN      Reg   \n",
       " 1458  1459          20       RL         68.0     9717   Pave   NaN      Reg   \n",
       " 1459  1460          20       RL         75.0     9937   Pave   NaN      Reg   \n",
       " \n",
       "      LandContour Utilities  ... PoolArea PoolQC  Fence MiscFeature MiscVal  \\\n",
       " 0            Lvl    AllPub  ...        0    NaN    NaN         NaN       0   \n",
       " 1            Lvl    AllPub  ...        0    NaN    NaN         NaN       0   \n",
       " 2            Lvl    AllPub  ...        0    NaN    NaN         NaN       0   \n",
       " 3            Lvl    AllPub  ...        0    NaN    NaN         NaN       0   \n",
       " 4            Lvl    AllPub  ...        0    NaN    NaN         NaN       0   \n",
       " ...          ...       ...  ...      ...    ...    ...         ...     ...   \n",
       " 1455         Lvl    AllPub  ...        0    NaN    NaN         NaN       0   \n",
       " 1456         Lvl    AllPub  ...        0    NaN  MnPrv         NaN       0   \n",
       " 1457         Lvl    AllPub  ...        0    NaN  GdPrv        Shed    2500   \n",
       " 1458         Lvl    AllPub  ...        0    NaN    NaN         NaN       0   \n",
       " 1459         Lvl    AllPub  ...        0    NaN    NaN         NaN       0   \n",
       " \n",
       "      MoSold YrSold  SaleType  SaleCondition  SalePrice  \n",
       " 0         2   2008        WD         Normal     208500  \n",
       " 1         5   2007        WD         Normal     181500  \n",
       " 2         9   2008        WD         Normal     223500  \n",
       " 3         2   2006        WD        Abnorml     140000  \n",
       " 4        12   2008        WD         Normal     250000  \n",
       " ...     ...    ...       ...            ...        ...  \n",
       " 1455      8   2007        WD         Normal     175000  \n",
       " 1456      2   2010        WD         Normal     210000  \n",
       " 1457      5   2010        WD         Normal     266500  \n",
       " 1458      4   2010        WD         Normal     142125  \n",
       " 1459      6   2008        WD         Normal     147500  \n",
       " \n",
       " [1460 rows x 81 columns],\n",
       " 'categories': None,\n",
       " 'feature_names': ['Id',\n",
       "  'MSSubClass',\n",
       "  'MSZoning',\n",
       "  'LotFrontage',\n",
       "  'LotArea',\n",
       "  'Street',\n",
       "  'Alley',\n",
       "  'LotShape',\n",
       "  'LandContour',\n",
       "  'Utilities',\n",
       "  'LotConfig',\n",
       "  'LandSlope',\n",
       "  'Neighborhood',\n",
       "  'Condition1',\n",
       "  'Condition2',\n",
       "  'BldgType',\n",
       "  'HouseStyle',\n",
       "  'OverallQual',\n",
       "  'OverallCond',\n",
       "  'YearBuilt',\n",
       "  'YearRemodAdd',\n",
       "  'RoofStyle',\n",
       "  'RoofMatl',\n",
       "  'Exterior1st',\n",
       "  'Exterior2nd',\n",
       "  'MasVnrType',\n",
       "  'MasVnrArea',\n",
       "  'ExterQual',\n",
       "  'ExterCond',\n",
       "  'Foundation',\n",
       "  'BsmtQual',\n",
       "  'BsmtCond',\n",
       "  'BsmtExposure',\n",
       "  'BsmtFinType1',\n",
       "  'BsmtFinSF1',\n",
       "  'BsmtFinType2',\n",
       "  'BsmtFinSF2',\n",
       "  'BsmtUnfSF',\n",
       "  'TotalBsmtSF',\n",
       "  'Heating',\n",
       "  'HeatingQC',\n",
       "  'CentralAir',\n",
       "  'Electrical',\n",
       "  '1stFlrSF',\n",
       "  '2ndFlrSF',\n",
       "  'LowQualFinSF',\n",
       "  'GrLivArea',\n",
       "  'BsmtFullBath',\n",
       "  'BsmtHalfBath',\n",
       "  'FullBath',\n",
       "  'HalfBath',\n",
       "  'BedroomAbvGr',\n",
       "  'KitchenAbvGr',\n",
       "  'KitchenQual',\n",
       "  'TotRmsAbvGrd',\n",
       "  'Functional',\n",
       "  'Fireplaces',\n",
       "  'FireplaceQu',\n",
       "  'GarageType',\n",
       "  'GarageYrBlt',\n",
       "  'GarageFinish',\n",
       "  'GarageCars',\n",
       "  'GarageArea',\n",
       "  'GarageQual',\n",
       "  'GarageCond',\n",
       "  'PavedDrive',\n",
       "  'WoodDeckSF',\n",
       "  'OpenPorchSF',\n",
       "  'EnclosedPorch',\n",
       "  '3SsnPorch',\n",
       "  'ScreenPorch',\n",
       "  'PoolArea',\n",
       "  'PoolQC',\n",
       "  'Fence',\n",
       "  'MiscFeature',\n",
       "  'MiscVal',\n",
       "  'MoSold',\n",
       "  'YrSold',\n",
       "  'SaleType',\n",
       "  'SaleCondition'],\n",
       " 'target_names': ['SalePrice'],\n",
       " 'DESCR': \"Ask a home buyer to describe their dream house, and they probably won't begin with the height of the basement ceiling or the proximity to an east-west railroad. But this playground competition's dataset proves that much more influences price negotiations than the number of bedrooms or a white-picket fence.\\n\\nWith 79 explanatory variables describing (almost) every aspect of residential homes in Ames, Iowa, this competition challenges you to predict the final price of each home.\\n\\nMSSubClass: Identifies the type of dwelling involved in the sale.\\t\\n\\n        20\\t1-STORY 1946 & NEWER ALL STYLES\\n        30\\t1-STORY 1945 & OLDER\\n        40\\t1-STORY W/FINISHED ATTIC ALL AGES\\n        45\\t1-1/2 STORY - UNFINISHED ALL AGES\\n        50\\t1-1/2 STORY FINISHED ALL AGES\\n        60\\t2-STORY 1946 & NEWER\\n        70\\t2-STORY 1945 & OLDER\\n        75\\t2-1/2 STORY ALL AGES\\n        80\\tSPLIT OR MULTI-LEVEL\\n        85\\tSPLIT FOYER\\n        90\\tDUPLEX - ALL STYLES AND AGES\\n       120\\t1-STORY PUD (Planned Unit Development) - 1946 & NEWER\\n       150\\t1-1/2 STORY PUD - ALL AGES\\n       160\\t2-STORY PUD - 1946 & NEWER\\n       180\\tPUD - MULTILEVEL - INCL SPLIT LEV/FOYER\\n       190\\t2 FAMILY CONVERSION - ALL STYLES AND AGES\\n\\nMSZoning: Identifies the general zoning classification of the sale.\\n\\t\\t\\n       A\\tAgriculture\\n       C\\tCommercial\\n       FV\\tFloating Village Residential\\n       I\\tIndustrial\\n       RH\\tResidential High Density\\n       RL\\tResidential Low Density\\n       RP\\tResidential Low Density Park \\n       RM\\tResidential Medium Density\\n\\t\\nLotFrontage: Linear feet of street connected to property\\n\\nLotArea: Lot size in square feet\\n\\nStreet: Type of road access to property\\n\\n       Grvl\\tGravel\\t\\n       Pave\\tPaved\\n       \\t\\nAlley: Type of alley access to property\\n\\n       Grvl\\tGravel\\n       Pave\\tPaved\\n       NA \\tNo alley access\\n\\t\\t\\nLotShape: General shape of property\\n\\n       Reg\\tRegular\\t\\n       IR1\\tSlightly irregular\\n       IR2\\tModerately Irregular\\n       IR3\\tIrregular\\n       \\nLandContour: Flatness of the property\\n\\n       Lvl\\tNear Flat/Level\\t\\n       Bnk\\tBanked - Quick and significant rise from street grade to building\\n       HLS\\tHillside - Significant slope from side to side\\n       Low\\tDepression\\n\\t\\t\\nUtilities: Type of utilities available\\n\\t\\t\\n       AllPub\\tAll public Utilities (E,G,W,& S)\\t\\n       NoSewr\\tElectricity, Gas, and Water (Septic Tank)\\n       NoSeWa\\tElectricity and Gas Only\\n       ELO\\tElectricity only\\t\\n\\t\\nLotConfig: Lot configuration\\n\\n       Inside\\tInside lot\\n       Corner\\tCorner lot\\n       CulDSac\\tCul-de-sac\\n       FR2\\tFrontage on 2 sides of property\\n       FR3\\tFrontage on 3 sides of property\\n\\t\\nLandSlope: Slope of property\\n\\t\\t\\n       Gtl\\tGentle slope\\n       Mod\\tModerate Slope\\t\\n       Sev\\tSevere Slope\\n\\t\\nNeighborhood: Physical locations within Ames city limits\\n\\n       Blmngtn\\tBloomington Heights\\n       Blueste\\tBluestem\\n       BrDale\\tBriardale\\n       BrkSide\\tBrookside\\n       ClearCr\\tClear Creek\\n       CollgCr\\tCollege Creek\\n       Crawfor\\tCrawford\\n       Edwards\\tEdwards\\n       Gilbert\\tGilbert\\n       IDOTRR\\tIowa DOT and Rail Road\\n       MeadowV\\tMeadow Village\\n       Mitchel\\tMitchell\\n       Names\\tNorth Ames\\n       NoRidge\\tNorthridge\\n       NPkVill\\tNorthpark Villa\\n       NridgHt\\tNorthridge Heights\\n       NWAmes\\tNorthwest Ames\\n       OldTown\\tOld Town\\n       SWISU\\tSouth & West of Iowa State University\\n       Sawyer\\tSawyer\\n       SawyerW\\tSawyer West\\n       Somerst\\tSomerset\\n       StoneBr\\tStone Brook\\n       Timber\\tTimberland\\n       Veenker\\tVeenker\\n\\t\\t\\t\\nCondition1: Proximity to various conditions\\n\\t\\n       Artery\\tAdjacent to arterial street\\n       Feedr\\tAdjacent to feeder street\\t\\n       Norm\\tNormal\\t\\n       RRNn\\tWithin 200' of North-South Railroad\\n       RRAn\\tAdjacent to North-South Railroad\\n       PosN\\tNear positive off-site feature--park, greenbelt, etc.\\n       PosA\\tAdjacent to postive off-site feature\\n       RRNe\\tWithin 200' of East-West Railroad\\n       RRAe\\tAdjacent to East-West Railroad\\n\\t\\nCondition2: Proximity to various conditions (if more than one is present)\\n\\t\\t\\n       Artery\\tAdjacent to arterial street\\n       Feedr\\tAdjacent to feeder street\\t\\n       Norm\\tNormal\\t\\n       RRNn\\tWithin 200' of North-South Railroad\\n       RRAn\\tAdjacent to North-South Railroad\\n       PosN\\tNear positive off-site feature--park, greenbelt, etc.\\n       PosA\\tAdjacent to postive off-site feature\\n       RRNe\\tWithin 200' of East-West Railroad\\n       RRAe\\tAdjacent to East-West Railroad\\n\\t\\nBldgType: Type of dwelling\\n\\t\\t\\n       1Fam\\tSingle-family Detached\\t\\n       2FmCon\\tTwo-family Conversion; originally built as one-family dwelling\\n       Duplx\\tDuplex\\n       TwnhsE\\tTownhouse End Unit\\n       TwnhsI\\tTownhouse Inside Unit\\n\\t\\nHouseStyle: Style of dwelling\\n\\t\\n       1Story\\tOne story\\n       1.5Fin\\tOne and one-half story: 2nd level finished\\n       1.5Unf\\tOne and one-half story: 2nd level unfinished\\n       2Story\\tTwo story\\n       2.5Fin\\tTwo and one-half story: 2nd level finished\\n       2.5Unf\\tTwo and one-half story: 2nd level unfinished\\n       SFoyer\\tSplit Foyer\\n       SLvl\\tSplit Level\\n\\t\\nOverallQual: Rates the overall material and finish of the house\\n\\n       10\\tVery Excellent\\n       9\\tExcellent\\n       8\\tVery Good\\n       7\\tGood\\n       6\\tAbove Average\\n       5\\tAverage\\n       4\\tBelow Average\\n       3\\tFair\\n       2\\tPoor\\n       1\\tVery Poor\\n\\t\\nOverallCond: Rates the overall condition of the house\\n\\n       10\\tVery Excellent\\n       9\\tExcellent\\n       8\\tVery Good\\n       7\\tGood\\n       6\\tAbove Average\\t\\n       5\\tAverage\\n       4\\tBelow Average\\t\\n       3\\tFair\\n       2\\tPoor\\n       1\\tVery Poor\\n\\t\\t\\nYearBuilt: Original construction date\\n\\nYearRemodAdd: Remodel date (same as construction date if no remodeling or additions)\\n\\nRoofStyle: Type of roof\\n\\n       Flat\\tFlat\\n       Gable\\tGable\\n       Gambrel\\tGabrel (Barn)\\n       Hip\\tHip\\n       Mansard\\tMansard\\n       Shed\\tShed\\n\\t\\t\\nRoofMatl: Roof material\\n\\n       ClyTile\\tClay or Tile\\n       CompShg\\tStandard (Composite) Shingle\\n       Membran\\tMembrane\\n       Metal\\tMetal\\n       Roll\\tRoll\\n       Tar&Grv\\tGravel & Tar\\n       WdShake\\tWood Shakes\\n       WdShngl\\tWood Shingles\\n\\t\\t\\nExterior1st: Exterior covering on house\\n\\n       AsbShng\\tAsbestos Shingles\\n       AsphShn\\tAsphalt Shingles\\n       BrkComm\\tBrick Common\\n       BrkFace\\tBrick Face\\n       CBlock\\tCinder Block\\n       CemntBd\\tCement Board\\n       HdBoard\\tHard Board\\n       ImStucc\\tImitation Stucco\\n       MetalSd\\tMetal Siding\\n       Other\\tOther\\n       Plywood\\tPlywood\\n       PreCast\\tPreCast\\t\\n       Stone\\tStone\\n       Stucco\\tStucco\\n       VinylSd\\tVinyl Siding\\n       Wd Sdng\\tWood Siding\\n       WdShing\\tWood Shingles\\n\\t\\nExterior2nd: Exterior covering on house (if more than one material)\\n\\n       AsbShng\\tAsbestos Shingles\\n       AsphShn\\tAsphalt Shingles\\n       BrkComm\\tBrick Common\\n       BrkFace\\tBrick Face\\n       CBlock\\tCinder Block\\n       CemntBd\\tCement Board\\n       HdBoard\\tHard Board\\n       ImStucc\\tImitation Stucco\\n       MetalSd\\tMetal Siding\\n       Other\\tOther\\n       Plywood\\tPlywood\\n       PreCast\\tPreCast\\n       Stone\\tStone\\n       Stucco\\tStucco\\n       VinylSd\\tVinyl Siding\\n       Wd Sdng\\tWood Siding\\n       WdShing\\tWood Shingles\\n\\t\\nMasVnrType: Masonry veneer type\\n\\n       BrkCmn\\tBrick Common\\n       BrkFace\\tBrick Face\\n       CBlock\\tCinder Block\\n       None\\tNone\\n       Stone\\tStone\\n\\t\\nMasVnrArea: Masonry veneer area in square feet\\n\\nExterQual: Evaluates the quality of the material on the exterior \\n\\t\\t\\n       Ex\\tExcellent\\n       Gd\\tGood\\n       TA\\tAverage/Typical\\n       Fa\\tFair\\n       Po\\tPoor\\n\\t\\t\\nExterCond: Evaluates the present condition of the material on the exterior\\n\\t\\t\\n       Ex\\tExcellent\\n       Gd\\tGood\\n       TA\\tAverage/Typical\\n       Fa\\tFair\\n       Po\\tPoor\\n\\t\\t\\nFoundation: Type of foundation\\n\\t\\t\\n       BrkTil\\tBrick & Tile\\n       CBlock\\tCinder Block\\n       PConc\\tPoured Contrete\\t\\n       Slab\\tSlab\\n       Stone\\tStone\\n       Wood\\tWood\\n\\t\\t\\nBsmtQual: Evaluates the height of the basement\\n\\n       Ex\\tExcellent (100+ inches)\\t\\n       Gd\\tGood (90-99 inches)\\n       TA\\tTypical (80-89 inches)\\n       Fa\\tFair (70-79 inches)\\n       Po\\tPoor (<70 inches\\n       NA\\tNo Basement\\n\\t\\t\\nBsmtCond: Evaluates the general condition of the basement\\n\\n       Ex\\tExcellent\\n       Gd\\tGood\\n       TA\\tTypical - slight dampness allowed\\n       Fa\\tFair - dampness or some cracking or settling\\n       Po\\tPoor - Severe cracking, settling, or wetness\\n       NA\\tNo Basement\\n\\t\\nBsmtExposure: Refers to walkout or garden level walls\\n\\n       Gd\\tGood Exposure\\n       Av\\tAverage Exposure (split levels or foyers typically score average or above)\\t\\n       Mn\\tMimimum Exposure\\n       No\\tNo Exposure\\n       NA\\tNo Basement\\n\\t\\nBsmtFinType1: Rating of basement finished area\\n\\n       GLQ\\tGood Living Quarters\\n       ALQ\\tAverage Living Quarters\\n       BLQ\\tBelow Average Living Quarters\\t\\n       Rec\\tAverage Rec Room\\n       LwQ\\tLow Quality\\n       Unf\\tUnfinshed\\n       NA\\tNo Basement\\n\\t\\t\\nBsmtFinSF1: Type 1 finished square feet\\n\\nBsmtFinType2: Rating of basement finished area (if multiple types)\\n\\n       GLQ\\tGood Living Quarters\\n       ALQ\\tAverage Living Quarters\\n       BLQ\\tBelow Average Living Quarters\\t\\n       Rec\\tAverage Rec Room\\n       LwQ\\tLow Quality\\n       Unf\\tUnfinshed\\n       NA\\tNo Basement\\n\\nBsmtFinSF2: Type 2 finished square feet\\n\\nBsmtUnfSF: Unfinished square feet of basement area\\n\\nTotalBsmtSF: Total square feet of basement area\\n\\nHeating: Type of heating\\n\\t\\t\\n       Floor\\tFloor Furnace\\n       GasA\\tGas forced warm air furnace\\n       GasW\\tGas hot water or steam heat\\n       Grav\\tGravity furnace\\t\\n       OthW\\tHot water or steam heat other than gas\\n       Wall\\tWall furnace\\n\\t\\t\\nHeatingQC: Heating quality and condition\\n\\n       Ex\\tExcellent\\n       Gd\\tGood\\n       TA\\tAverage/Typical\\n       Fa\\tFair\\n       Po\\tPoor\\n\\t\\t\\nCentralAir: Central air conditioning\\n\\n       N\\tNo\\n       Y\\tYes\\n\\t\\t\\nElectrical: Electrical system\\n\\n       SBrkr\\tStandard Circuit Breakers & Romex\\n       FuseA\\tFuse Box over 60 AMP and all Romex wiring (Average)\\t\\n       FuseF\\t60 AMP Fuse Box and mostly Romex wiring (Fair)\\n       FuseP\\t60 AMP Fuse Box and mostly knob & tube wiring (poor)\\n       Mix\\tMixed\\n\\t\\t\\n1stFlrSF: First Floor square feet\\n \\n2ndFlrSF: Second floor square feet\\n\\nLowQualFinSF: Low quality finished square feet (all floors)\\n\\nGrLivArea: Above grade (ground) living area square feet\\n\\nBsmtFullBath: Basement full bathrooms\\n\\nBsmtHalfBath: Basement half bathrooms\\n\\nFullBath: Full bathrooms above grade\\n\\nHalfBath: Half baths above grade\\n\\nBedroom: Bedrooms above grade (does NOT include basement bedrooms)\\n\\nKitchen: Kitchens above grade\\n\\nKitchenQual: Kitchen quality\\n\\n       Ex\\tExcellent\\n       Gd\\tGood\\n       TA\\tTypical/Average\\n       Fa\\tFair\\n       Po\\tPoor\\n       \\t\\nTotRmsAbvGrd: Total rooms above grade (does not include bathrooms)\\n\\nFunctional: Home functionality (Assume typical unless deductions are warranted)\\n\\n       Typ\\tTypical Functionality\\n       Min1\\tMinor Deductions 1\\n       Min2\\tMinor Deductions 2\\n       Mod\\tModerate Deductions\\n       Maj1\\tMajor Deductions 1\\n       Maj2\\tMajor Deductions 2\\n       Sev\\tSeverely Damaged\\n       Sal\\tSalvage only\\n\\t\\t\\nFireplaces: Number of fireplaces\\n\\nFireplaceQu: Fireplace quality\\n\\n       Ex\\tExcellent - Exceptional Masonry Fireplace\\n       Gd\\tGood - Masonry Fireplace in main level\\n       TA\\tAverage - Prefabricated Fireplace in main living area or Masonry Fireplace in basement\\n       Fa\\tFair - Prefabricated Fireplace in basement\\n       Po\\tPoor - Ben Franklin Stove\\n       NA\\tNo Fireplace\\n\\t\\t\\nGarageType: Garage location\\n\\t\\t\\n       2Types\\tMore than one type of garage\\n       Attchd\\tAttached to home\\n       Basment\\tBasement Garage\\n       BuiltIn\\tBuilt-In (Garage part of house - typically has room above garage)\\n       CarPort\\tCar Port\\n       Detchd\\tDetached from home\\n       NA\\tNo Garage\\n\\t\\t\\nGarageYrBlt: Year garage was built\\n\\t\\t\\nGarageFinish: Interior finish of the garage\\n\\n       Fin\\tFinished\\n       RFn\\tRough Finished\\t\\n       Unf\\tUnfinished\\n       NA\\tNo Garage\\n\\t\\t\\nGarageCars: Size of garage in car capacity\\n\\nGarageArea: Size of garage in square feet\\n\\nGarageQual: Garage quality\\n\\n       Ex\\tExcellent\\n       Gd\\tGood\\n       TA\\tTypical/Average\\n       Fa\\tFair\\n       Po\\tPoor\\n       NA\\tNo Garage\\n\\t\\t\\nGarageCond: Garage condition\\n\\n       Ex\\tExcellent\\n       Gd\\tGood\\n       TA\\tTypical/Average\\n       Fa\\tFair\\n       Po\\tPoor\\n       NA\\tNo Garage\\n\\t\\t\\nPavedDrive: Paved driveway\\n\\n       Y\\tPaved \\n       P\\tPartial Pavement\\n       N\\tDirt/Gravel\\n\\t\\t\\nWoodDeckSF: Wood deck area in square feet\\n\\nOpenPorchSF: Open porch area in square feet\\n\\nEnclosedPorch: Enclosed porch area in square feet\\n\\n3SsnPorch: Three season porch area in square feet\\n\\nScreenPorch: Screen porch area in square feet\\n\\nPoolArea: Pool area in square feet\\n\\nPoolQC: Pool quality\\n\\t\\t\\n       Ex\\tExcellent\\n       Gd\\tGood\\n       TA\\tAverage/Typical\\n       Fa\\tFair\\n       NA\\tNo Pool\\n\\t\\t\\nFence: Fence quality\\n\\t\\t\\n       GdPrv\\tGood Privacy\\n       MnPrv\\tMinimum Privacy\\n       GdWo\\tGood Wood\\n       MnWw\\tMinimum Wood/Wire\\n       NA\\tNo Fence\\n\\t\\nMiscFeature: Miscellaneous feature not covered in other categories\\n\\t\\t\\n       Elev\\tElevator\\n       Gar2\\t2nd Garage (if not described in garage section)\\n       Othr\\tOther\\n       Shed\\tShed (over 100 SF)\\n       TenC\\tTennis Court\\n       NA\\tNone\\n\\t\\t\\nMiscVal: $Value of miscellaneous feature\\n\\nMoSold: Month Sold (MM)\\n\\nYrSold: Year Sold (YYYY)\\n\\nSaleType: Type of sale\\n\\t\\t\\n       WD \\tWarranty Deed - Conventional\\n       CWD\\tWarranty Deed - Cash\\n       VWD\\tWarranty Deed - VA Loan\\n       New\\tHome just constructed and sold\\n       COD\\tCourt Officer Deed/Estate\\n       Con\\tContract 15% Down payment regular terms\\n       ConLw\\tContract Low Down payment and low interest\\n       ConLI\\tContract Low Interest\\n       ConLD\\tContract Low Down\\n       Oth\\tOther\\n\\t\\t\\nSaleCondition: Condition of sale\\n\\n       Normal\\tNormal Sale\\n       Abnorml\\tAbnormal Sale -  trade, foreclosure, short sale\\n       AdjLand\\tAdjoining Land Purchase\\n       Alloca\\tAllocation - two linked properties with separate deeds, typically condo with a garage unit\\t\\n       Family\\tSale between family members\\n       Partial\\tHome was not completed when last assessed (associated with New Homes)\\n\\nDownloaded from openml.org.\",\n",
       " 'details': {'id': '42165',\n",
       "  'name': 'house_prices',\n",
       "  'version': '1',\n",
       "  'description_version': '1',\n",
       "  'format': 'arff',\n",
       "  'creator': 'OkCupid',\n",
       "  'collection_date': 'NA',\n",
       "  'upload_date': '2019-10-04T12:57:32',\n",
       "  'language': 'English',\n",
       "  'licence': 'NA',\n",
       "  'url': 'https://api.openml.org/data/v1/download/21754539/house_prices.arff',\n",
       "  'parquet_url': 'http://openml1.win.tue.nl/dataset42165/dataset_42165.pq',\n",
       "  'file_id': '21754539',\n",
       "  'default_target_attribute': 'SalePrice',\n",
       "  'version_label': '0.1',\n",
       "  'visibility': 'public',\n",
       "  'original_data_url': 'https://www.kaggle.com/c/house-prices-advanced-regression-techniques/overview',\n",
       "  'paper_url': 'https://www.kaggle.com/c/house-prices-advanced-regression-techniques/overview',\n",
       "  'minio_url': 'http://openml1.win.tue.nl/dataset42165/dataset_42165.pq',\n",
       "  'status': 'active',\n",
       "  'processing_date': '2019-10-04 12:58:02',\n",
       "  'md5_checksum': 'd5ca59f8d02b1b1c127034392c0f995f'},\n",
       " 'url': 'https://www.openml.org/d/42165'}"
      ]
     },
     "execution_count": 7,
     "metadata": {},
     "output_type": "execute_result"
    }
   ],
   "source": [
    "boston"
   ]
  },
  {
   "cell_type": "markdown",
   "id": "f986b997",
   "metadata": {},
   "source": [
    "# The dataset is in the form of dictionary. So we check for keys and features and then convert it into dataframe."
   ]
  },
  {
   "cell_type": "code",
   "execution_count": 8,
   "id": "98c981fb",
   "metadata": {},
   "outputs": [
    {
     "data": {
      "text/plain": [
       "dict_keys(['data', 'target', 'frame', 'categories', 'feature_names', 'target_names', 'DESCR', 'details', 'url'])"
      ]
     },
     "execution_count": 8,
     "metadata": {},
     "output_type": "execute_result"
    }
   ],
   "source": [
    "boston.keys()"
   ]
  },
  {
   "cell_type": "code",
   "execution_count": 9,
   "id": "8d734ac4",
   "metadata": {},
   "outputs": [
    {
     "data": {
      "text/plain": [
       "\"Ask a home buyer to describe their dream house, and they probably won't begin with the height of the basement ceiling or the proximity to an east-west railroad. But this playground competition's dataset proves that much more influences price negotiations than the number of bedrooms or a white-picket fence.\\n\\nWith 79 explanatory variables describing (almost) every aspect of residential homes in Ames, Iowa, this competition challenges you to predict the final price of each home.\\n\\nMSSubClass: Identifies the type of dwelling involved in the sale.\\t\\n\\n        20\\t1-STORY 1946 & NEWER ALL STYLES\\n        30\\t1-STORY 1945 & OLDER\\n        40\\t1-STORY W/FINISHED ATTIC ALL AGES\\n        45\\t1-1/2 STORY - UNFINISHED ALL AGES\\n        50\\t1-1/2 STORY FINISHED ALL AGES\\n        60\\t2-STORY 1946 & NEWER\\n        70\\t2-STORY 1945 & OLDER\\n        75\\t2-1/2 STORY ALL AGES\\n        80\\tSPLIT OR MULTI-LEVEL\\n        85\\tSPLIT FOYER\\n        90\\tDUPLEX - ALL STYLES AND AGES\\n       120\\t1-STORY PUD (Planned Unit Development) - 1946 & NEWER\\n       150\\t1-1/2 STORY PUD - ALL AGES\\n       160\\t2-STORY PUD - 1946 & NEWER\\n       180\\tPUD - MULTILEVEL - INCL SPLIT LEV/FOYER\\n       190\\t2 FAMILY CONVERSION - ALL STYLES AND AGES\\n\\nMSZoning: Identifies the general zoning classification of the sale.\\n\\t\\t\\n       A\\tAgriculture\\n       C\\tCommercial\\n       FV\\tFloating Village Residential\\n       I\\tIndustrial\\n       RH\\tResidential High Density\\n       RL\\tResidential Low Density\\n       RP\\tResidential Low Density Park \\n       RM\\tResidential Medium Density\\n\\t\\nLotFrontage: Linear feet of street connected to property\\n\\nLotArea: Lot size in square feet\\n\\nStreet: Type of road access to property\\n\\n       Grvl\\tGravel\\t\\n       Pave\\tPaved\\n       \\t\\nAlley: Type of alley access to property\\n\\n       Grvl\\tGravel\\n       Pave\\tPaved\\n       NA \\tNo alley access\\n\\t\\t\\nLotShape: General shape of property\\n\\n       Reg\\tRegular\\t\\n       IR1\\tSlightly irregular\\n       IR2\\tModerately Irregular\\n       IR3\\tIrregular\\n       \\nLandContour: Flatness of the property\\n\\n       Lvl\\tNear Flat/Level\\t\\n       Bnk\\tBanked - Quick and significant rise from street grade to building\\n       HLS\\tHillside - Significant slope from side to side\\n       Low\\tDepression\\n\\t\\t\\nUtilities: Type of utilities available\\n\\t\\t\\n       AllPub\\tAll public Utilities (E,G,W,& S)\\t\\n       NoSewr\\tElectricity, Gas, and Water (Septic Tank)\\n       NoSeWa\\tElectricity and Gas Only\\n       ELO\\tElectricity only\\t\\n\\t\\nLotConfig: Lot configuration\\n\\n       Inside\\tInside lot\\n       Corner\\tCorner lot\\n       CulDSac\\tCul-de-sac\\n       FR2\\tFrontage on 2 sides of property\\n       FR3\\tFrontage on 3 sides of property\\n\\t\\nLandSlope: Slope of property\\n\\t\\t\\n       Gtl\\tGentle slope\\n       Mod\\tModerate Slope\\t\\n       Sev\\tSevere Slope\\n\\t\\nNeighborhood: Physical locations within Ames city limits\\n\\n       Blmngtn\\tBloomington Heights\\n       Blueste\\tBluestem\\n       BrDale\\tBriardale\\n       BrkSide\\tBrookside\\n       ClearCr\\tClear Creek\\n       CollgCr\\tCollege Creek\\n       Crawfor\\tCrawford\\n       Edwards\\tEdwards\\n       Gilbert\\tGilbert\\n       IDOTRR\\tIowa DOT and Rail Road\\n       MeadowV\\tMeadow Village\\n       Mitchel\\tMitchell\\n       Names\\tNorth Ames\\n       NoRidge\\tNorthridge\\n       NPkVill\\tNorthpark Villa\\n       NridgHt\\tNorthridge Heights\\n       NWAmes\\tNorthwest Ames\\n       OldTown\\tOld Town\\n       SWISU\\tSouth & West of Iowa State University\\n       Sawyer\\tSawyer\\n       SawyerW\\tSawyer West\\n       Somerst\\tSomerset\\n       StoneBr\\tStone Brook\\n       Timber\\tTimberland\\n       Veenker\\tVeenker\\n\\t\\t\\t\\nCondition1: Proximity to various conditions\\n\\t\\n       Artery\\tAdjacent to arterial street\\n       Feedr\\tAdjacent to feeder street\\t\\n       Norm\\tNormal\\t\\n       RRNn\\tWithin 200' of North-South Railroad\\n       RRAn\\tAdjacent to North-South Railroad\\n       PosN\\tNear positive off-site feature--park, greenbelt, etc.\\n       PosA\\tAdjacent to postive off-site feature\\n       RRNe\\tWithin 200' of East-West Railroad\\n       RRAe\\tAdjacent to East-West Railroad\\n\\t\\nCondition2: Proximity to various conditions (if more than one is present)\\n\\t\\t\\n       Artery\\tAdjacent to arterial street\\n       Feedr\\tAdjacent to feeder street\\t\\n       Norm\\tNormal\\t\\n       RRNn\\tWithin 200' of North-South Railroad\\n       RRAn\\tAdjacent to North-South Railroad\\n       PosN\\tNear positive off-site feature--park, greenbelt, etc.\\n       PosA\\tAdjacent to postive off-site feature\\n       RRNe\\tWithin 200' of East-West Railroad\\n       RRAe\\tAdjacent to East-West Railroad\\n\\t\\nBldgType: Type of dwelling\\n\\t\\t\\n       1Fam\\tSingle-family Detached\\t\\n       2FmCon\\tTwo-family Conversion; originally built as one-family dwelling\\n       Duplx\\tDuplex\\n       TwnhsE\\tTownhouse End Unit\\n       TwnhsI\\tTownhouse Inside Unit\\n\\t\\nHouseStyle: Style of dwelling\\n\\t\\n       1Story\\tOne story\\n       1.5Fin\\tOne and one-half story: 2nd level finished\\n       1.5Unf\\tOne and one-half story: 2nd level unfinished\\n       2Story\\tTwo story\\n       2.5Fin\\tTwo and one-half story: 2nd level finished\\n       2.5Unf\\tTwo and one-half story: 2nd level unfinished\\n       SFoyer\\tSplit Foyer\\n       SLvl\\tSplit Level\\n\\t\\nOverallQual: Rates the overall material and finish of the house\\n\\n       10\\tVery Excellent\\n       9\\tExcellent\\n       8\\tVery Good\\n       7\\tGood\\n       6\\tAbove Average\\n       5\\tAverage\\n       4\\tBelow Average\\n       3\\tFair\\n       2\\tPoor\\n       1\\tVery Poor\\n\\t\\nOverallCond: Rates the overall condition of the house\\n\\n       10\\tVery Excellent\\n       9\\tExcellent\\n       8\\tVery Good\\n       7\\tGood\\n       6\\tAbove Average\\t\\n       5\\tAverage\\n       4\\tBelow Average\\t\\n       3\\tFair\\n       2\\tPoor\\n       1\\tVery Poor\\n\\t\\t\\nYearBuilt: Original construction date\\n\\nYearRemodAdd: Remodel date (same as construction date if no remodeling or additions)\\n\\nRoofStyle: Type of roof\\n\\n       Flat\\tFlat\\n       Gable\\tGable\\n       Gambrel\\tGabrel (Barn)\\n       Hip\\tHip\\n       Mansard\\tMansard\\n       Shed\\tShed\\n\\t\\t\\nRoofMatl: Roof material\\n\\n       ClyTile\\tClay or Tile\\n       CompShg\\tStandard (Composite) Shingle\\n       Membran\\tMembrane\\n       Metal\\tMetal\\n       Roll\\tRoll\\n       Tar&Grv\\tGravel & Tar\\n       WdShake\\tWood Shakes\\n       WdShngl\\tWood Shingles\\n\\t\\t\\nExterior1st: Exterior covering on house\\n\\n       AsbShng\\tAsbestos Shingles\\n       AsphShn\\tAsphalt Shingles\\n       BrkComm\\tBrick Common\\n       BrkFace\\tBrick Face\\n       CBlock\\tCinder Block\\n       CemntBd\\tCement Board\\n       HdBoard\\tHard Board\\n       ImStucc\\tImitation Stucco\\n       MetalSd\\tMetal Siding\\n       Other\\tOther\\n       Plywood\\tPlywood\\n       PreCast\\tPreCast\\t\\n       Stone\\tStone\\n       Stucco\\tStucco\\n       VinylSd\\tVinyl Siding\\n       Wd Sdng\\tWood Siding\\n       WdShing\\tWood Shingles\\n\\t\\nExterior2nd: Exterior covering on house (if more than one material)\\n\\n       AsbShng\\tAsbestos Shingles\\n       AsphShn\\tAsphalt Shingles\\n       BrkComm\\tBrick Common\\n       BrkFace\\tBrick Face\\n       CBlock\\tCinder Block\\n       CemntBd\\tCement Board\\n       HdBoard\\tHard Board\\n       ImStucc\\tImitation Stucco\\n       MetalSd\\tMetal Siding\\n       Other\\tOther\\n       Plywood\\tPlywood\\n       PreCast\\tPreCast\\n       Stone\\tStone\\n       Stucco\\tStucco\\n       VinylSd\\tVinyl Siding\\n       Wd Sdng\\tWood Siding\\n       WdShing\\tWood Shingles\\n\\t\\nMasVnrType: Masonry veneer type\\n\\n       BrkCmn\\tBrick Common\\n       BrkFace\\tBrick Face\\n       CBlock\\tCinder Block\\n       None\\tNone\\n       Stone\\tStone\\n\\t\\nMasVnrArea: Masonry veneer area in square feet\\n\\nExterQual: Evaluates the quality of the material on the exterior \\n\\t\\t\\n       Ex\\tExcellent\\n       Gd\\tGood\\n       TA\\tAverage/Typical\\n       Fa\\tFair\\n       Po\\tPoor\\n\\t\\t\\nExterCond: Evaluates the present condition of the material on the exterior\\n\\t\\t\\n       Ex\\tExcellent\\n       Gd\\tGood\\n       TA\\tAverage/Typical\\n       Fa\\tFair\\n       Po\\tPoor\\n\\t\\t\\nFoundation: Type of foundation\\n\\t\\t\\n       BrkTil\\tBrick & Tile\\n       CBlock\\tCinder Block\\n       PConc\\tPoured Contrete\\t\\n       Slab\\tSlab\\n       Stone\\tStone\\n       Wood\\tWood\\n\\t\\t\\nBsmtQual: Evaluates the height of the basement\\n\\n       Ex\\tExcellent (100+ inches)\\t\\n       Gd\\tGood (90-99 inches)\\n       TA\\tTypical (80-89 inches)\\n       Fa\\tFair (70-79 inches)\\n       Po\\tPoor (<70 inches\\n       NA\\tNo Basement\\n\\t\\t\\nBsmtCond: Evaluates the general condition of the basement\\n\\n       Ex\\tExcellent\\n       Gd\\tGood\\n       TA\\tTypical - slight dampness allowed\\n       Fa\\tFair - dampness or some cracking or settling\\n       Po\\tPoor - Severe cracking, settling, or wetness\\n       NA\\tNo Basement\\n\\t\\nBsmtExposure: Refers to walkout or garden level walls\\n\\n       Gd\\tGood Exposure\\n       Av\\tAverage Exposure (split levels or foyers typically score average or above)\\t\\n       Mn\\tMimimum Exposure\\n       No\\tNo Exposure\\n       NA\\tNo Basement\\n\\t\\nBsmtFinType1: Rating of basement finished area\\n\\n       GLQ\\tGood Living Quarters\\n       ALQ\\tAverage Living Quarters\\n       BLQ\\tBelow Average Living Quarters\\t\\n       Rec\\tAverage Rec Room\\n       LwQ\\tLow Quality\\n       Unf\\tUnfinshed\\n       NA\\tNo Basement\\n\\t\\t\\nBsmtFinSF1: Type 1 finished square feet\\n\\nBsmtFinType2: Rating of basement finished area (if multiple types)\\n\\n       GLQ\\tGood Living Quarters\\n       ALQ\\tAverage Living Quarters\\n       BLQ\\tBelow Average Living Quarters\\t\\n       Rec\\tAverage Rec Room\\n       LwQ\\tLow Quality\\n       Unf\\tUnfinshed\\n       NA\\tNo Basement\\n\\nBsmtFinSF2: Type 2 finished square feet\\n\\nBsmtUnfSF: Unfinished square feet of basement area\\n\\nTotalBsmtSF: Total square feet of basement area\\n\\nHeating: Type of heating\\n\\t\\t\\n       Floor\\tFloor Furnace\\n       GasA\\tGas forced warm air furnace\\n       GasW\\tGas hot water or steam heat\\n       Grav\\tGravity furnace\\t\\n       OthW\\tHot water or steam heat other than gas\\n       Wall\\tWall furnace\\n\\t\\t\\nHeatingQC: Heating quality and condition\\n\\n       Ex\\tExcellent\\n       Gd\\tGood\\n       TA\\tAverage/Typical\\n       Fa\\tFair\\n       Po\\tPoor\\n\\t\\t\\nCentralAir: Central air conditioning\\n\\n       N\\tNo\\n       Y\\tYes\\n\\t\\t\\nElectrical: Electrical system\\n\\n       SBrkr\\tStandard Circuit Breakers & Romex\\n       FuseA\\tFuse Box over 60 AMP and all Romex wiring (Average)\\t\\n       FuseF\\t60 AMP Fuse Box and mostly Romex wiring (Fair)\\n       FuseP\\t60 AMP Fuse Box and mostly knob & tube wiring (poor)\\n       Mix\\tMixed\\n\\t\\t\\n1stFlrSF: First Floor square feet\\n \\n2ndFlrSF: Second floor square feet\\n\\nLowQualFinSF: Low quality finished square feet (all floors)\\n\\nGrLivArea: Above grade (ground) living area square feet\\n\\nBsmtFullBath: Basement full bathrooms\\n\\nBsmtHalfBath: Basement half bathrooms\\n\\nFullBath: Full bathrooms above grade\\n\\nHalfBath: Half baths above grade\\n\\nBedroom: Bedrooms above grade (does NOT include basement bedrooms)\\n\\nKitchen: Kitchens above grade\\n\\nKitchenQual: Kitchen quality\\n\\n       Ex\\tExcellent\\n       Gd\\tGood\\n       TA\\tTypical/Average\\n       Fa\\tFair\\n       Po\\tPoor\\n       \\t\\nTotRmsAbvGrd: Total rooms above grade (does not include bathrooms)\\n\\nFunctional: Home functionality (Assume typical unless deductions are warranted)\\n\\n       Typ\\tTypical Functionality\\n       Min1\\tMinor Deductions 1\\n       Min2\\tMinor Deductions 2\\n       Mod\\tModerate Deductions\\n       Maj1\\tMajor Deductions 1\\n       Maj2\\tMajor Deductions 2\\n       Sev\\tSeverely Damaged\\n       Sal\\tSalvage only\\n\\t\\t\\nFireplaces: Number of fireplaces\\n\\nFireplaceQu: Fireplace quality\\n\\n       Ex\\tExcellent - Exceptional Masonry Fireplace\\n       Gd\\tGood - Masonry Fireplace in main level\\n       TA\\tAverage - Prefabricated Fireplace in main living area or Masonry Fireplace in basement\\n       Fa\\tFair - Prefabricated Fireplace in basement\\n       Po\\tPoor - Ben Franklin Stove\\n       NA\\tNo Fireplace\\n\\t\\t\\nGarageType: Garage location\\n\\t\\t\\n       2Types\\tMore than one type of garage\\n       Attchd\\tAttached to home\\n       Basment\\tBasement Garage\\n       BuiltIn\\tBuilt-In (Garage part of house - typically has room above garage)\\n       CarPort\\tCar Port\\n       Detchd\\tDetached from home\\n       NA\\tNo Garage\\n\\t\\t\\nGarageYrBlt: Year garage was built\\n\\t\\t\\nGarageFinish: Interior finish of the garage\\n\\n       Fin\\tFinished\\n       RFn\\tRough Finished\\t\\n       Unf\\tUnfinished\\n       NA\\tNo Garage\\n\\t\\t\\nGarageCars: Size of garage in car capacity\\n\\nGarageArea: Size of garage in square feet\\n\\nGarageQual: Garage quality\\n\\n       Ex\\tExcellent\\n       Gd\\tGood\\n       TA\\tTypical/Average\\n       Fa\\tFair\\n       Po\\tPoor\\n       NA\\tNo Garage\\n\\t\\t\\nGarageCond: Garage condition\\n\\n       Ex\\tExcellent\\n       Gd\\tGood\\n       TA\\tTypical/Average\\n       Fa\\tFair\\n       Po\\tPoor\\n       NA\\tNo Garage\\n\\t\\t\\nPavedDrive: Paved driveway\\n\\n       Y\\tPaved \\n       P\\tPartial Pavement\\n       N\\tDirt/Gravel\\n\\t\\t\\nWoodDeckSF: Wood deck area in square feet\\n\\nOpenPorchSF: Open porch area in square feet\\n\\nEnclosedPorch: Enclosed porch area in square feet\\n\\n3SsnPorch: Three season porch area in square feet\\n\\nScreenPorch: Screen porch area in square feet\\n\\nPoolArea: Pool area in square feet\\n\\nPoolQC: Pool quality\\n\\t\\t\\n       Ex\\tExcellent\\n       Gd\\tGood\\n       TA\\tAverage/Typical\\n       Fa\\tFair\\n       NA\\tNo Pool\\n\\t\\t\\nFence: Fence quality\\n\\t\\t\\n       GdPrv\\tGood Privacy\\n       MnPrv\\tMinimum Privacy\\n       GdWo\\tGood Wood\\n       MnWw\\tMinimum Wood/Wire\\n       NA\\tNo Fence\\n\\t\\nMiscFeature: Miscellaneous feature not covered in other categories\\n\\t\\t\\n       Elev\\tElevator\\n       Gar2\\t2nd Garage (if not described in garage section)\\n       Othr\\tOther\\n       Shed\\tShed (over 100 SF)\\n       TenC\\tTennis Court\\n       NA\\tNone\\n\\t\\t\\nMiscVal: $Value of miscellaneous feature\\n\\nMoSold: Month Sold (MM)\\n\\nYrSold: Year Sold (YYYY)\\n\\nSaleType: Type of sale\\n\\t\\t\\n       WD \\tWarranty Deed - Conventional\\n       CWD\\tWarranty Deed - Cash\\n       VWD\\tWarranty Deed - VA Loan\\n       New\\tHome just constructed and sold\\n       COD\\tCourt Officer Deed/Estate\\n       Con\\tContract 15% Down payment regular terms\\n       ConLw\\tContract Low Down payment and low interest\\n       ConLI\\tContract Low Interest\\n       ConLD\\tContract Low Down\\n       Oth\\tOther\\n\\t\\t\\nSaleCondition: Condition of sale\\n\\n       Normal\\tNormal Sale\\n       Abnorml\\tAbnormal Sale -  trade, foreclosure, short sale\\n       AdjLand\\tAdjoining Land Purchase\\n       Alloca\\tAllocation - two linked properties with separate deeds, typically condo with a garage unit\\t\\n       Family\\tSale between family members\\n       Partial\\tHome was not completed when last assessed (associated with New Homes)\\n\\nDownloaded from openml.org.\""
      ]
     },
     "execution_count": 9,
     "metadata": {},
     "output_type": "execute_result"
    }
   ],
   "source": [
    "boston.DESCR"
   ]
  },
  {
   "cell_type": "code",
   "execution_count": 10,
   "id": "0f980f16",
   "metadata": {},
   "outputs": [
    {
     "data": {
      "text/plain": [
       "['Id',\n",
       " 'MSSubClass',\n",
       " 'MSZoning',\n",
       " 'LotFrontage',\n",
       " 'LotArea',\n",
       " 'Street',\n",
       " 'Alley',\n",
       " 'LotShape',\n",
       " 'LandContour',\n",
       " 'Utilities',\n",
       " 'LotConfig',\n",
       " 'LandSlope',\n",
       " 'Neighborhood',\n",
       " 'Condition1',\n",
       " 'Condition2',\n",
       " 'BldgType',\n",
       " 'HouseStyle',\n",
       " 'OverallQual',\n",
       " 'OverallCond',\n",
       " 'YearBuilt',\n",
       " 'YearRemodAdd',\n",
       " 'RoofStyle',\n",
       " 'RoofMatl',\n",
       " 'Exterior1st',\n",
       " 'Exterior2nd',\n",
       " 'MasVnrType',\n",
       " 'MasVnrArea',\n",
       " 'ExterQual',\n",
       " 'ExterCond',\n",
       " 'Foundation',\n",
       " 'BsmtQual',\n",
       " 'BsmtCond',\n",
       " 'BsmtExposure',\n",
       " 'BsmtFinType1',\n",
       " 'BsmtFinSF1',\n",
       " 'BsmtFinType2',\n",
       " 'BsmtFinSF2',\n",
       " 'BsmtUnfSF',\n",
       " 'TotalBsmtSF',\n",
       " 'Heating',\n",
       " 'HeatingQC',\n",
       " 'CentralAir',\n",
       " 'Electrical',\n",
       " '1stFlrSF',\n",
       " '2ndFlrSF',\n",
       " 'LowQualFinSF',\n",
       " 'GrLivArea',\n",
       " 'BsmtFullBath',\n",
       " 'BsmtHalfBath',\n",
       " 'FullBath',\n",
       " 'HalfBath',\n",
       " 'BedroomAbvGr',\n",
       " 'KitchenAbvGr',\n",
       " 'KitchenQual',\n",
       " 'TotRmsAbvGrd',\n",
       " 'Functional',\n",
       " 'Fireplaces',\n",
       " 'FireplaceQu',\n",
       " 'GarageType',\n",
       " 'GarageYrBlt',\n",
       " 'GarageFinish',\n",
       " 'GarageCars',\n",
       " 'GarageArea',\n",
       " 'GarageQual',\n",
       " 'GarageCond',\n",
       " 'PavedDrive',\n",
       " 'WoodDeckSF',\n",
       " 'OpenPorchSF',\n",
       " 'EnclosedPorch',\n",
       " '3SsnPorch',\n",
       " 'ScreenPorch',\n",
       " 'PoolArea',\n",
       " 'PoolQC',\n",
       " 'Fence',\n",
       " 'MiscFeature',\n",
       " 'MiscVal',\n",
       " 'MoSold',\n",
       " 'YrSold',\n",
       " 'SaleType',\n",
       " 'SaleCondition']"
      ]
     },
     "execution_count": 10,
     "metadata": {},
     "output_type": "execute_result"
    }
   ],
   "source": [
    "boston.feature_names"
   ]
  },
  {
   "cell_type": "code",
   "execution_count": 11,
   "id": "120e0df9",
   "metadata": {},
   "outputs": [
    {
     "data": {
      "text/plain": [
       "0       208500\n",
       "1       181500\n",
       "2       223500\n",
       "3       140000\n",
       "4       250000\n",
       "         ...  \n",
       "1455    175000\n",
       "1456    210000\n",
       "1457    266500\n",
       "1458    142125\n",
       "1459    147500\n",
       "Name: SalePrice, Length: 1460, dtype: int64"
      ]
     },
     "execution_count": 11,
     "metadata": {},
     "output_type": "execute_result"
    }
   ],
   "source": [
    "boston.target"
   ]
  },
  {
   "cell_type": "markdown",
   "id": "65315bc0",
   "metadata": {},
   "source": [
    "# Preparing the dataset from dictionary."
   ]
  },
  {
   "cell_type": "code",
   "execution_count": 12,
   "id": "329e2277",
   "metadata": {},
   "outputs": [],
   "source": [
    "dataset = pd.DataFrame(boston.data)"
   ]
  },
  {
   "cell_type": "code",
   "execution_count": 13,
   "id": "a1b69e1d",
   "metadata": {},
   "outputs": [
    {
     "data": {
      "text/html": [
       "<div>\n",
       "<style scoped>\n",
       "    .dataframe tbody tr th:only-of-type {\n",
       "        vertical-align: middle;\n",
       "    }\n",
       "\n",
       "    .dataframe tbody tr th {\n",
       "        vertical-align: top;\n",
       "    }\n",
       "\n",
       "    .dataframe thead th {\n",
       "        text-align: right;\n",
       "    }\n",
       "</style>\n",
       "<table border=\"1\" class=\"dataframe\">\n",
       "  <thead>\n",
       "    <tr style=\"text-align: right;\">\n",
       "      <th></th>\n",
       "      <th>Id</th>\n",
       "      <th>MSSubClass</th>\n",
       "      <th>MSZoning</th>\n",
       "      <th>LotFrontage</th>\n",
       "      <th>LotArea</th>\n",
       "      <th>Street</th>\n",
       "      <th>Alley</th>\n",
       "      <th>LotShape</th>\n",
       "      <th>LandContour</th>\n",
       "      <th>Utilities</th>\n",
       "      <th>...</th>\n",
       "      <th>ScreenPorch</th>\n",
       "      <th>PoolArea</th>\n",
       "      <th>PoolQC</th>\n",
       "      <th>Fence</th>\n",
       "      <th>MiscFeature</th>\n",
       "      <th>MiscVal</th>\n",
       "      <th>MoSold</th>\n",
       "      <th>YrSold</th>\n",
       "      <th>SaleType</th>\n",
       "      <th>SaleCondition</th>\n",
       "    </tr>\n",
       "  </thead>\n",
       "  <tbody>\n",
       "    <tr>\n",
       "      <th>0</th>\n",
       "      <td>1</td>\n",
       "      <td>60</td>\n",
       "      <td>RL</td>\n",
       "      <td>65.0</td>\n",
       "      <td>8450</td>\n",
       "      <td>Pave</td>\n",
       "      <td>NaN</td>\n",
       "      <td>Reg</td>\n",
       "      <td>Lvl</td>\n",
       "      <td>AllPub</td>\n",
       "      <td>...</td>\n",
       "      <td>0</td>\n",
       "      <td>0</td>\n",
       "      <td>NaN</td>\n",
       "      <td>NaN</td>\n",
       "      <td>NaN</td>\n",
       "      <td>0</td>\n",
       "      <td>2</td>\n",
       "      <td>2008</td>\n",
       "      <td>WD</td>\n",
       "      <td>Normal</td>\n",
       "    </tr>\n",
       "    <tr>\n",
       "      <th>1</th>\n",
       "      <td>2</td>\n",
       "      <td>20</td>\n",
       "      <td>RL</td>\n",
       "      <td>80.0</td>\n",
       "      <td>9600</td>\n",
       "      <td>Pave</td>\n",
       "      <td>NaN</td>\n",
       "      <td>Reg</td>\n",
       "      <td>Lvl</td>\n",
       "      <td>AllPub</td>\n",
       "      <td>...</td>\n",
       "      <td>0</td>\n",
       "      <td>0</td>\n",
       "      <td>NaN</td>\n",
       "      <td>NaN</td>\n",
       "      <td>NaN</td>\n",
       "      <td>0</td>\n",
       "      <td>5</td>\n",
       "      <td>2007</td>\n",
       "      <td>WD</td>\n",
       "      <td>Normal</td>\n",
       "    </tr>\n",
       "    <tr>\n",
       "      <th>2</th>\n",
       "      <td>3</td>\n",
       "      <td>60</td>\n",
       "      <td>RL</td>\n",
       "      <td>68.0</td>\n",
       "      <td>11250</td>\n",
       "      <td>Pave</td>\n",
       "      <td>NaN</td>\n",
       "      <td>IR1</td>\n",
       "      <td>Lvl</td>\n",
       "      <td>AllPub</td>\n",
       "      <td>...</td>\n",
       "      <td>0</td>\n",
       "      <td>0</td>\n",
       "      <td>NaN</td>\n",
       "      <td>NaN</td>\n",
       "      <td>NaN</td>\n",
       "      <td>0</td>\n",
       "      <td>9</td>\n",
       "      <td>2008</td>\n",
       "      <td>WD</td>\n",
       "      <td>Normal</td>\n",
       "    </tr>\n",
       "    <tr>\n",
       "      <th>3</th>\n",
       "      <td>4</td>\n",
       "      <td>70</td>\n",
       "      <td>RL</td>\n",
       "      <td>60.0</td>\n",
       "      <td>9550</td>\n",
       "      <td>Pave</td>\n",
       "      <td>NaN</td>\n",
       "      <td>IR1</td>\n",
       "      <td>Lvl</td>\n",
       "      <td>AllPub</td>\n",
       "      <td>...</td>\n",
       "      <td>0</td>\n",
       "      <td>0</td>\n",
       "      <td>NaN</td>\n",
       "      <td>NaN</td>\n",
       "      <td>NaN</td>\n",
       "      <td>0</td>\n",
       "      <td>2</td>\n",
       "      <td>2006</td>\n",
       "      <td>WD</td>\n",
       "      <td>Abnorml</td>\n",
       "    </tr>\n",
       "    <tr>\n",
       "      <th>4</th>\n",
       "      <td>5</td>\n",
       "      <td>60</td>\n",
       "      <td>RL</td>\n",
       "      <td>84.0</td>\n",
       "      <td>14260</td>\n",
       "      <td>Pave</td>\n",
       "      <td>NaN</td>\n",
       "      <td>IR1</td>\n",
       "      <td>Lvl</td>\n",
       "      <td>AllPub</td>\n",
       "      <td>...</td>\n",
       "      <td>0</td>\n",
       "      <td>0</td>\n",
       "      <td>NaN</td>\n",
       "      <td>NaN</td>\n",
       "      <td>NaN</td>\n",
       "      <td>0</td>\n",
       "      <td>12</td>\n",
       "      <td>2008</td>\n",
       "      <td>WD</td>\n",
       "      <td>Normal</td>\n",
       "    </tr>\n",
       "    <tr>\n",
       "      <th>5</th>\n",
       "      <td>6</td>\n",
       "      <td>50</td>\n",
       "      <td>RL</td>\n",
       "      <td>85.0</td>\n",
       "      <td>14115</td>\n",
       "      <td>Pave</td>\n",
       "      <td>NaN</td>\n",
       "      <td>IR1</td>\n",
       "      <td>Lvl</td>\n",
       "      <td>AllPub</td>\n",
       "      <td>...</td>\n",
       "      <td>0</td>\n",
       "      <td>0</td>\n",
       "      <td>NaN</td>\n",
       "      <td>MnPrv</td>\n",
       "      <td>Shed</td>\n",
       "      <td>700</td>\n",
       "      <td>10</td>\n",
       "      <td>2009</td>\n",
       "      <td>WD</td>\n",
       "      <td>Normal</td>\n",
       "    </tr>\n",
       "    <tr>\n",
       "      <th>6</th>\n",
       "      <td>7</td>\n",
       "      <td>20</td>\n",
       "      <td>RL</td>\n",
       "      <td>75.0</td>\n",
       "      <td>10084</td>\n",
       "      <td>Pave</td>\n",
       "      <td>NaN</td>\n",
       "      <td>Reg</td>\n",
       "      <td>Lvl</td>\n",
       "      <td>AllPub</td>\n",
       "      <td>...</td>\n",
       "      <td>0</td>\n",
       "      <td>0</td>\n",
       "      <td>NaN</td>\n",
       "      <td>NaN</td>\n",
       "      <td>NaN</td>\n",
       "      <td>0</td>\n",
       "      <td>8</td>\n",
       "      <td>2007</td>\n",
       "      <td>WD</td>\n",
       "      <td>Normal</td>\n",
       "    </tr>\n",
       "    <tr>\n",
       "      <th>7</th>\n",
       "      <td>8</td>\n",
       "      <td>60</td>\n",
       "      <td>RL</td>\n",
       "      <td>NaN</td>\n",
       "      <td>10382</td>\n",
       "      <td>Pave</td>\n",
       "      <td>NaN</td>\n",
       "      <td>IR1</td>\n",
       "      <td>Lvl</td>\n",
       "      <td>AllPub</td>\n",
       "      <td>...</td>\n",
       "      <td>0</td>\n",
       "      <td>0</td>\n",
       "      <td>NaN</td>\n",
       "      <td>NaN</td>\n",
       "      <td>Shed</td>\n",
       "      <td>350</td>\n",
       "      <td>11</td>\n",
       "      <td>2009</td>\n",
       "      <td>WD</td>\n",
       "      <td>Normal</td>\n",
       "    </tr>\n",
       "    <tr>\n",
       "      <th>8</th>\n",
       "      <td>9</td>\n",
       "      <td>50</td>\n",
       "      <td>RM</td>\n",
       "      <td>51.0</td>\n",
       "      <td>6120</td>\n",
       "      <td>Pave</td>\n",
       "      <td>NaN</td>\n",
       "      <td>Reg</td>\n",
       "      <td>Lvl</td>\n",
       "      <td>AllPub</td>\n",
       "      <td>...</td>\n",
       "      <td>0</td>\n",
       "      <td>0</td>\n",
       "      <td>NaN</td>\n",
       "      <td>NaN</td>\n",
       "      <td>NaN</td>\n",
       "      <td>0</td>\n",
       "      <td>4</td>\n",
       "      <td>2008</td>\n",
       "      <td>WD</td>\n",
       "      <td>Abnorml</td>\n",
       "    </tr>\n",
       "    <tr>\n",
       "      <th>9</th>\n",
       "      <td>10</td>\n",
       "      <td>190</td>\n",
       "      <td>RL</td>\n",
       "      <td>50.0</td>\n",
       "      <td>7420</td>\n",
       "      <td>Pave</td>\n",
       "      <td>NaN</td>\n",
       "      <td>Reg</td>\n",
       "      <td>Lvl</td>\n",
       "      <td>AllPub</td>\n",
       "      <td>...</td>\n",
       "      <td>0</td>\n",
       "      <td>0</td>\n",
       "      <td>NaN</td>\n",
       "      <td>NaN</td>\n",
       "      <td>NaN</td>\n",
       "      <td>0</td>\n",
       "      <td>1</td>\n",
       "      <td>2008</td>\n",
       "      <td>WD</td>\n",
       "      <td>Normal</td>\n",
       "    </tr>\n",
       "  </tbody>\n",
       "</table>\n",
       "<p>10 rows × 80 columns</p>\n",
       "</div>"
      ],
      "text/plain": [
       "   Id  MSSubClass MSZoning  LotFrontage  LotArea Street Alley LotShape  \\\n",
       "0   1          60       RL         65.0     8450   Pave   NaN      Reg   \n",
       "1   2          20       RL         80.0     9600   Pave   NaN      Reg   \n",
       "2   3          60       RL         68.0    11250   Pave   NaN      IR1   \n",
       "3   4          70       RL         60.0     9550   Pave   NaN      IR1   \n",
       "4   5          60       RL         84.0    14260   Pave   NaN      IR1   \n",
       "5   6          50       RL         85.0    14115   Pave   NaN      IR1   \n",
       "6   7          20       RL         75.0    10084   Pave   NaN      Reg   \n",
       "7   8          60       RL          NaN    10382   Pave   NaN      IR1   \n",
       "8   9          50       RM         51.0     6120   Pave   NaN      Reg   \n",
       "9  10         190       RL         50.0     7420   Pave   NaN      Reg   \n",
       "\n",
       "  LandContour Utilities  ... ScreenPorch PoolArea PoolQC  Fence MiscFeature  \\\n",
       "0         Lvl    AllPub  ...           0        0    NaN    NaN         NaN   \n",
       "1         Lvl    AllPub  ...           0        0    NaN    NaN         NaN   \n",
       "2         Lvl    AllPub  ...           0        0    NaN    NaN         NaN   \n",
       "3         Lvl    AllPub  ...           0        0    NaN    NaN         NaN   \n",
       "4         Lvl    AllPub  ...           0        0    NaN    NaN         NaN   \n",
       "5         Lvl    AllPub  ...           0        0    NaN  MnPrv        Shed   \n",
       "6         Lvl    AllPub  ...           0        0    NaN    NaN         NaN   \n",
       "7         Lvl    AllPub  ...           0        0    NaN    NaN        Shed   \n",
       "8         Lvl    AllPub  ...           0        0    NaN    NaN         NaN   \n",
       "9         Lvl    AllPub  ...           0        0    NaN    NaN         NaN   \n",
       "\n",
       "  MiscVal MoSold  YrSold  SaleType  SaleCondition  \n",
       "0       0      2    2008        WD         Normal  \n",
       "1       0      5    2007        WD         Normal  \n",
       "2       0      9    2008        WD         Normal  \n",
       "3       0      2    2006        WD        Abnorml  \n",
       "4       0     12    2008        WD         Normal  \n",
       "5     700     10    2009        WD         Normal  \n",
       "6       0      8    2007        WD         Normal  \n",
       "7     350     11    2009        WD         Normal  \n",
       "8       0      4    2008        WD        Abnorml  \n",
       "9       0      1    2008        WD         Normal  \n",
       "\n",
       "[10 rows x 80 columns]"
      ]
     },
     "execution_count": 13,
     "metadata": {},
     "output_type": "execute_result"
    }
   ],
   "source": [
    "dataset.head(10)"
   ]
  },
  {
   "cell_type": "markdown",
   "id": "7ab1b93d",
   "metadata": {},
   "source": [
    "Column names are not there, therefore we use columns attribute"
   ]
  },
  {
   "cell_type": "code",
   "execution_count": 14,
   "id": "62f5f1af",
   "metadata": {},
   "outputs": [],
   "source": [
    "dataset = pd.DataFrame(boston.data, columns = boston.feature_names)"
   ]
  },
  {
   "cell_type": "code",
   "execution_count": 15,
   "id": "d8355c60",
   "metadata": {},
   "outputs": [
    {
     "data": {
      "text/html": [
       "<div>\n",
       "<style scoped>\n",
       "    .dataframe tbody tr th:only-of-type {\n",
       "        vertical-align: middle;\n",
       "    }\n",
       "\n",
       "    .dataframe tbody tr th {\n",
       "        vertical-align: top;\n",
       "    }\n",
       "\n",
       "    .dataframe thead th {\n",
       "        text-align: right;\n",
       "    }\n",
       "</style>\n",
       "<table border=\"1\" class=\"dataframe\">\n",
       "  <thead>\n",
       "    <tr style=\"text-align: right;\">\n",
       "      <th></th>\n",
       "      <th>Id</th>\n",
       "      <th>MSSubClass</th>\n",
       "      <th>MSZoning</th>\n",
       "      <th>LotFrontage</th>\n",
       "      <th>LotArea</th>\n",
       "      <th>Street</th>\n",
       "      <th>Alley</th>\n",
       "      <th>LotShape</th>\n",
       "      <th>LandContour</th>\n",
       "      <th>Utilities</th>\n",
       "      <th>...</th>\n",
       "      <th>ScreenPorch</th>\n",
       "      <th>PoolArea</th>\n",
       "      <th>PoolQC</th>\n",
       "      <th>Fence</th>\n",
       "      <th>MiscFeature</th>\n",
       "      <th>MiscVal</th>\n",
       "      <th>MoSold</th>\n",
       "      <th>YrSold</th>\n",
       "      <th>SaleType</th>\n",
       "      <th>SaleCondition</th>\n",
       "    </tr>\n",
       "  </thead>\n",
       "  <tbody>\n",
       "    <tr>\n",
       "      <th>0</th>\n",
       "      <td>1</td>\n",
       "      <td>60</td>\n",
       "      <td>RL</td>\n",
       "      <td>65.0</td>\n",
       "      <td>8450</td>\n",
       "      <td>Pave</td>\n",
       "      <td>NaN</td>\n",
       "      <td>Reg</td>\n",
       "      <td>Lvl</td>\n",
       "      <td>AllPub</td>\n",
       "      <td>...</td>\n",
       "      <td>0</td>\n",
       "      <td>0</td>\n",
       "      <td>NaN</td>\n",
       "      <td>NaN</td>\n",
       "      <td>NaN</td>\n",
       "      <td>0</td>\n",
       "      <td>2</td>\n",
       "      <td>2008</td>\n",
       "      <td>WD</td>\n",
       "      <td>Normal</td>\n",
       "    </tr>\n",
       "    <tr>\n",
       "      <th>1</th>\n",
       "      <td>2</td>\n",
       "      <td>20</td>\n",
       "      <td>RL</td>\n",
       "      <td>80.0</td>\n",
       "      <td>9600</td>\n",
       "      <td>Pave</td>\n",
       "      <td>NaN</td>\n",
       "      <td>Reg</td>\n",
       "      <td>Lvl</td>\n",
       "      <td>AllPub</td>\n",
       "      <td>...</td>\n",
       "      <td>0</td>\n",
       "      <td>0</td>\n",
       "      <td>NaN</td>\n",
       "      <td>NaN</td>\n",
       "      <td>NaN</td>\n",
       "      <td>0</td>\n",
       "      <td>5</td>\n",
       "      <td>2007</td>\n",
       "      <td>WD</td>\n",
       "      <td>Normal</td>\n",
       "    </tr>\n",
       "    <tr>\n",
       "      <th>2</th>\n",
       "      <td>3</td>\n",
       "      <td>60</td>\n",
       "      <td>RL</td>\n",
       "      <td>68.0</td>\n",
       "      <td>11250</td>\n",
       "      <td>Pave</td>\n",
       "      <td>NaN</td>\n",
       "      <td>IR1</td>\n",
       "      <td>Lvl</td>\n",
       "      <td>AllPub</td>\n",
       "      <td>...</td>\n",
       "      <td>0</td>\n",
       "      <td>0</td>\n",
       "      <td>NaN</td>\n",
       "      <td>NaN</td>\n",
       "      <td>NaN</td>\n",
       "      <td>0</td>\n",
       "      <td>9</td>\n",
       "      <td>2008</td>\n",
       "      <td>WD</td>\n",
       "      <td>Normal</td>\n",
       "    </tr>\n",
       "    <tr>\n",
       "      <th>3</th>\n",
       "      <td>4</td>\n",
       "      <td>70</td>\n",
       "      <td>RL</td>\n",
       "      <td>60.0</td>\n",
       "      <td>9550</td>\n",
       "      <td>Pave</td>\n",
       "      <td>NaN</td>\n",
       "      <td>IR1</td>\n",
       "      <td>Lvl</td>\n",
       "      <td>AllPub</td>\n",
       "      <td>...</td>\n",
       "      <td>0</td>\n",
       "      <td>0</td>\n",
       "      <td>NaN</td>\n",
       "      <td>NaN</td>\n",
       "      <td>NaN</td>\n",
       "      <td>0</td>\n",
       "      <td>2</td>\n",
       "      <td>2006</td>\n",
       "      <td>WD</td>\n",
       "      <td>Abnorml</td>\n",
       "    </tr>\n",
       "    <tr>\n",
       "      <th>4</th>\n",
       "      <td>5</td>\n",
       "      <td>60</td>\n",
       "      <td>RL</td>\n",
       "      <td>84.0</td>\n",
       "      <td>14260</td>\n",
       "      <td>Pave</td>\n",
       "      <td>NaN</td>\n",
       "      <td>IR1</td>\n",
       "      <td>Lvl</td>\n",
       "      <td>AllPub</td>\n",
       "      <td>...</td>\n",
       "      <td>0</td>\n",
       "      <td>0</td>\n",
       "      <td>NaN</td>\n",
       "      <td>NaN</td>\n",
       "      <td>NaN</td>\n",
       "      <td>0</td>\n",
       "      <td>12</td>\n",
       "      <td>2008</td>\n",
       "      <td>WD</td>\n",
       "      <td>Normal</td>\n",
       "    </tr>\n",
       "    <tr>\n",
       "      <th>5</th>\n",
       "      <td>6</td>\n",
       "      <td>50</td>\n",
       "      <td>RL</td>\n",
       "      <td>85.0</td>\n",
       "      <td>14115</td>\n",
       "      <td>Pave</td>\n",
       "      <td>NaN</td>\n",
       "      <td>IR1</td>\n",
       "      <td>Lvl</td>\n",
       "      <td>AllPub</td>\n",
       "      <td>...</td>\n",
       "      <td>0</td>\n",
       "      <td>0</td>\n",
       "      <td>NaN</td>\n",
       "      <td>MnPrv</td>\n",
       "      <td>Shed</td>\n",
       "      <td>700</td>\n",
       "      <td>10</td>\n",
       "      <td>2009</td>\n",
       "      <td>WD</td>\n",
       "      <td>Normal</td>\n",
       "    </tr>\n",
       "    <tr>\n",
       "      <th>6</th>\n",
       "      <td>7</td>\n",
       "      <td>20</td>\n",
       "      <td>RL</td>\n",
       "      <td>75.0</td>\n",
       "      <td>10084</td>\n",
       "      <td>Pave</td>\n",
       "      <td>NaN</td>\n",
       "      <td>Reg</td>\n",
       "      <td>Lvl</td>\n",
       "      <td>AllPub</td>\n",
       "      <td>...</td>\n",
       "      <td>0</td>\n",
       "      <td>0</td>\n",
       "      <td>NaN</td>\n",
       "      <td>NaN</td>\n",
       "      <td>NaN</td>\n",
       "      <td>0</td>\n",
       "      <td>8</td>\n",
       "      <td>2007</td>\n",
       "      <td>WD</td>\n",
       "      <td>Normal</td>\n",
       "    </tr>\n",
       "    <tr>\n",
       "      <th>7</th>\n",
       "      <td>8</td>\n",
       "      <td>60</td>\n",
       "      <td>RL</td>\n",
       "      <td>NaN</td>\n",
       "      <td>10382</td>\n",
       "      <td>Pave</td>\n",
       "      <td>NaN</td>\n",
       "      <td>IR1</td>\n",
       "      <td>Lvl</td>\n",
       "      <td>AllPub</td>\n",
       "      <td>...</td>\n",
       "      <td>0</td>\n",
       "      <td>0</td>\n",
       "      <td>NaN</td>\n",
       "      <td>NaN</td>\n",
       "      <td>Shed</td>\n",
       "      <td>350</td>\n",
       "      <td>11</td>\n",
       "      <td>2009</td>\n",
       "      <td>WD</td>\n",
       "      <td>Normal</td>\n",
       "    </tr>\n",
       "    <tr>\n",
       "      <th>8</th>\n",
       "      <td>9</td>\n",
       "      <td>50</td>\n",
       "      <td>RM</td>\n",
       "      <td>51.0</td>\n",
       "      <td>6120</td>\n",
       "      <td>Pave</td>\n",
       "      <td>NaN</td>\n",
       "      <td>Reg</td>\n",
       "      <td>Lvl</td>\n",
       "      <td>AllPub</td>\n",
       "      <td>...</td>\n",
       "      <td>0</td>\n",
       "      <td>0</td>\n",
       "      <td>NaN</td>\n",
       "      <td>NaN</td>\n",
       "      <td>NaN</td>\n",
       "      <td>0</td>\n",
       "      <td>4</td>\n",
       "      <td>2008</td>\n",
       "      <td>WD</td>\n",
       "      <td>Abnorml</td>\n",
       "    </tr>\n",
       "    <tr>\n",
       "      <th>9</th>\n",
       "      <td>10</td>\n",
       "      <td>190</td>\n",
       "      <td>RL</td>\n",
       "      <td>50.0</td>\n",
       "      <td>7420</td>\n",
       "      <td>Pave</td>\n",
       "      <td>NaN</td>\n",
       "      <td>Reg</td>\n",
       "      <td>Lvl</td>\n",
       "      <td>AllPub</td>\n",
       "      <td>...</td>\n",
       "      <td>0</td>\n",
       "      <td>0</td>\n",
       "      <td>NaN</td>\n",
       "      <td>NaN</td>\n",
       "      <td>NaN</td>\n",
       "      <td>0</td>\n",
       "      <td>1</td>\n",
       "      <td>2008</td>\n",
       "      <td>WD</td>\n",
       "      <td>Normal</td>\n",
       "    </tr>\n",
       "  </tbody>\n",
       "</table>\n",
       "<p>10 rows × 80 columns</p>\n",
       "</div>"
      ],
      "text/plain": [
       "   Id  MSSubClass MSZoning  LotFrontage  LotArea Street Alley LotShape  \\\n",
       "0   1          60       RL         65.0     8450   Pave   NaN      Reg   \n",
       "1   2          20       RL         80.0     9600   Pave   NaN      Reg   \n",
       "2   3          60       RL         68.0    11250   Pave   NaN      IR1   \n",
       "3   4          70       RL         60.0     9550   Pave   NaN      IR1   \n",
       "4   5          60       RL         84.0    14260   Pave   NaN      IR1   \n",
       "5   6          50       RL         85.0    14115   Pave   NaN      IR1   \n",
       "6   7          20       RL         75.0    10084   Pave   NaN      Reg   \n",
       "7   8          60       RL          NaN    10382   Pave   NaN      IR1   \n",
       "8   9          50       RM         51.0     6120   Pave   NaN      Reg   \n",
       "9  10         190       RL         50.0     7420   Pave   NaN      Reg   \n",
       "\n",
       "  LandContour Utilities  ... ScreenPorch PoolArea PoolQC  Fence MiscFeature  \\\n",
       "0         Lvl    AllPub  ...           0        0    NaN    NaN         NaN   \n",
       "1         Lvl    AllPub  ...           0        0    NaN    NaN         NaN   \n",
       "2         Lvl    AllPub  ...           0        0    NaN    NaN         NaN   \n",
       "3         Lvl    AllPub  ...           0        0    NaN    NaN         NaN   \n",
       "4         Lvl    AllPub  ...           0        0    NaN    NaN         NaN   \n",
       "5         Lvl    AllPub  ...           0        0    NaN  MnPrv        Shed   \n",
       "6         Lvl    AllPub  ...           0        0    NaN    NaN         NaN   \n",
       "7         Lvl    AllPub  ...           0        0    NaN    NaN        Shed   \n",
       "8         Lvl    AllPub  ...           0        0    NaN    NaN         NaN   \n",
       "9         Lvl    AllPub  ...           0        0    NaN    NaN         NaN   \n",
       "\n",
       "  MiscVal MoSold  YrSold  SaleType  SaleCondition  \n",
       "0       0      2    2008        WD         Normal  \n",
       "1       0      5    2007        WD         Normal  \n",
       "2       0      9    2008        WD         Normal  \n",
       "3       0      2    2006        WD        Abnorml  \n",
       "4       0     12    2008        WD         Normal  \n",
       "5     700     10    2009        WD         Normal  \n",
       "6       0      8    2007        WD         Normal  \n",
       "7     350     11    2009        WD         Normal  \n",
       "8       0      4    2008        WD        Abnorml  \n",
       "9       0      1    2008        WD         Normal  \n",
       "\n",
       "[10 rows x 80 columns]"
      ]
     },
     "execution_count": 15,
     "metadata": {},
     "output_type": "execute_result"
    }
   ],
   "source": [
    "dataset.head(10)"
   ]
  },
  {
   "cell_type": "markdown",
   "id": "1447ea0d",
   "metadata": {},
   "source": [
    "above dataset does not contain dependent variable ie. Price. so we add the Price Feature or dependent variable."
   ]
  },
  {
   "cell_type": "code",
   "execution_count": 16,
   "id": "85bb19fc",
   "metadata": {},
   "outputs": [],
   "source": [
    "dataset['Price'] = boston.target"
   ]
  },
  {
   "cell_type": "markdown",
   "id": "65037d02",
   "metadata": {},
   "source": [
    "here dataset is the dataset/dataframe and boston is the dictionary"
   ]
  },
  {
   "cell_type": "code",
   "execution_count": 17,
   "id": "2b88d3aa",
   "metadata": {},
   "outputs": [
    {
     "data": {
      "text/html": [
       "<div>\n",
       "<style scoped>\n",
       "    .dataframe tbody tr th:only-of-type {\n",
       "        vertical-align: middle;\n",
       "    }\n",
       "\n",
       "    .dataframe tbody tr th {\n",
       "        vertical-align: top;\n",
       "    }\n",
       "\n",
       "    .dataframe thead th {\n",
       "        text-align: right;\n",
       "    }\n",
       "</style>\n",
       "<table border=\"1\" class=\"dataframe\">\n",
       "  <thead>\n",
       "    <tr style=\"text-align: right;\">\n",
       "      <th></th>\n",
       "      <th>Id</th>\n",
       "      <th>MSSubClass</th>\n",
       "      <th>MSZoning</th>\n",
       "      <th>LotFrontage</th>\n",
       "      <th>LotArea</th>\n",
       "      <th>Street</th>\n",
       "      <th>Alley</th>\n",
       "      <th>LotShape</th>\n",
       "      <th>LandContour</th>\n",
       "      <th>Utilities</th>\n",
       "      <th>...</th>\n",
       "      <th>PoolArea</th>\n",
       "      <th>PoolQC</th>\n",
       "      <th>Fence</th>\n",
       "      <th>MiscFeature</th>\n",
       "      <th>MiscVal</th>\n",
       "      <th>MoSold</th>\n",
       "      <th>YrSold</th>\n",
       "      <th>SaleType</th>\n",
       "      <th>SaleCondition</th>\n",
       "      <th>Price</th>\n",
       "    </tr>\n",
       "  </thead>\n",
       "  <tbody>\n",
       "    <tr>\n",
       "      <th>0</th>\n",
       "      <td>1</td>\n",
       "      <td>60</td>\n",
       "      <td>RL</td>\n",
       "      <td>65.0</td>\n",
       "      <td>8450</td>\n",
       "      <td>Pave</td>\n",
       "      <td>NaN</td>\n",
       "      <td>Reg</td>\n",
       "      <td>Lvl</td>\n",
       "      <td>AllPub</td>\n",
       "      <td>...</td>\n",
       "      <td>0</td>\n",
       "      <td>NaN</td>\n",
       "      <td>NaN</td>\n",
       "      <td>NaN</td>\n",
       "      <td>0</td>\n",
       "      <td>2</td>\n",
       "      <td>2008</td>\n",
       "      <td>WD</td>\n",
       "      <td>Normal</td>\n",
       "      <td>208500</td>\n",
       "    </tr>\n",
       "    <tr>\n",
       "      <th>1</th>\n",
       "      <td>2</td>\n",
       "      <td>20</td>\n",
       "      <td>RL</td>\n",
       "      <td>80.0</td>\n",
       "      <td>9600</td>\n",
       "      <td>Pave</td>\n",
       "      <td>NaN</td>\n",
       "      <td>Reg</td>\n",
       "      <td>Lvl</td>\n",
       "      <td>AllPub</td>\n",
       "      <td>...</td>\n",
       "      <td>0</td>\n",
       "      <td>NaN</td>\n",
       "      <td>NaN</td>\n",
       "      <td>NaN</td>\n",
       "      <td>0</td>\n",
       "      <td>5</td>\n",
       "      <td>2007</td>\n",
       "      <td>WD</td>\n",
       "      <td>Normal</td>\n",
       "      <td>181500</td>\n",
       "    </tr>\n",
       "    <tr>\n",
       "      <th>2</th>\n",
       "      <td>3</td>\n",
       "      <td>60</td>\n",
       "      <td>RL</td>\n",
       "      <td>68.0</td>\n",
       "      <td>11250</td>\n",
       "      <td>Pave</td>\n",
       "      <td>NaN</td>\n",
       "      <td>IR1</td>\n",
       "      <td>Lvl</td>\n",
       "      <td>AllPub</td>\n",
       "      <td>...</td>\n",
       "      <td>0</td>\n",
       "      <td>NaN</td>\n",
       "      <td>NaN</td>\n",
       "      <td>NaN</td>\n",
       "      <td>0</td>\n",
       "      <td>9</td>\n",
       "      <td>2008</td>\n",
       "      <td>WD</td>\n",
       "      <td>Normal</td>\n",
       "      <td>223500</td>\n",
       "    </tr>\n",
       "    <tr>\n",
       "      <th>3</th>\n",
       "      <td>4</td>\n",
       "      <td>70</td>\n",
       "      <td>RL</td>\n",
       "      <td>60.0</td>\n",
       "      <td>9550</td>\n",
       "      <td>Pave</td>\n",
       "      <td>NaN</td>\n",
       "      <td>IR1</td>\n",
       "      <td>Lvl</td>\n",
       "      <td>AllPub</td>\n",
       "      <td>...</td>\n",
       "      <td>0</td>\n",
       "      <td>NaN</td>\n",
       "      <td>NaN</td>\n",
       "      <td>NaN</td>\n",
       "      <td>0</td>\n",
       "      <td>2</td>\n",
       "      <td>2006</td>\n",
       "      <td>WD</td>\n",
       "      <td>Abnorml</td>\n",
       "      <td>140000</td>\n",
       "    </tr>\n",
       "    <tr>\n",
       "      <th>4</th>\n",
       "      <td>5</td>\n",
       "      <td>60</td>\n",
       "      <td>RL</td>\n",
       "      <td>84.0</td>\n",
       "      <td>14260</td>\n",
       "      <td>Pave</td>\n",
       "      <td>NaN</td>\n",
       "      <td>IR1</td>\n",
       "      <td>Lvl</td>\n",
       "      <td>AllPub</td>\n",
       "      <td>...</td>\n",
       "      <td>0</td>\n",
       "      <td>NaN</td>\n",
       "      <td>NaN</td>\n",
       "      <td>NaN</td>\n",
       "      <td>0</td>\n",
       "      <td>12</td>\n",
       "      <td>2008</td>\n",
       "      <td>WD</td>\n",
       "      <td>Normal</td>\n",
       "      <td>250000</td>\n",
       "    </tr>\n",
       "  </tbody>\n",
       "</table>\n",
       "<p>5 rows × 81 columns</p>\n",
       "</div>"
      ],
      "text/plain": [
       "   Id  MSSubClass MSZoning  LotFrontage  LotArea Street Alley LotShape  \\\n",
       "0   1          60       RL         65.0     8450   Pave   NaN      Reg   \n",
       "1   2          20       RL         80.0     9600   Pave   NaN      Reg   \n",
       "2   3          60       RL         68.0    11250   Pave   NaN      IR1   \n",
       "3   4          70       RL         60.0     9550   Pave   NaN      IR1   \n",
       "4   5          60       RL         84.0    14260   Pave   NaN      IR1   \n",
       "\n",
       "  LandContour Utilities  ... PoolArea PoolQC Fence MiscFeature MiscVal MoSold  \\\n",
       "0         Lvl    AllPub  ...        0    NaN   NaN         NaN       0      2   \n",
       "1         Lvl    AllPub  ...        0    NaN   NaN         NaN       0      5   \n",
       "2         Lvl    AllPub  ...        0    NaN   NaN         NaN       0      9   \n",
       "3         Lvl    AllPub  ...        0    NaN   NaN         NaN       0      2   \n",
       "4         Lvl    AllPub  ...        0    NaN   NaN         NaN       0     12   \n",
       "\n",
       "  YrSold  SaleType  SaleCondition   Price  \n",
       "0   2008        WD         Normal  208500  \n",
       "1   2007        WD         Normal  181500  \n",
       "2   2008        WD         Normal  223500  \n",
       "3   2006        WD        Abnorml  140000  \n",
       "4   2008        WD         Normal  250000  \n",
       "\n",
       "[5 rows x 81 columns]"
      ]
     },
     "execution_count": 17,
     "metadata": {},
     "output_type": "execute_result"
    }
   ],
   "source": [
    "dataset.head()"
   ]
  },
  {
   "cell_type": "code",
   "execution_count": 18,
   "id": "cff5a514",
   "metadata": {},
   "outputs": [
    {
     "name": "stdout",
     "output_type": "stream",
     "text": [
      "<class 'pandas.core.frame.DataFrame'>\n",
      "RangeIndex: 1460 entries, 0 to 1459\n",
      "Data columns (total 81 columns):\n",
      " #   Column         Non-Null Count  Dtype  \n",
      "---  ------         --------------  -----  \n",
      " 0   Id             1460 non-null   int64  \n",
      " 1   MSSubClass     1460 non-null   int64  \n",
      " 2   MSZoning       1460 non-null   object \n",
      " 3   LotFrontage    1201 non-null   float64\n",
      " 4   LotArea        1460 non-null   int64  \n",
      " 5   Street         1460 non-null   object \n",
      " 6   Alley          91 non-null     object \n",
      " 7   LotShape       1460 non-null   object \n",
      " 8   LandContour    1460 non-null   object \n",
      " 9   Utilities      1460 non-null   object \n",
      " 10  LotConfig      1460 non-null   object \n",
      " 11  LandSlope      1460 non-null   object \n",
      " 12  Neighborhood   1460 non-null   object \n",
      " 13  Condition1     1460 non-null   object \n",
      " 14  Condition2     1460 non-null   object \n",
      " 15  BldgType       1460 non-null   object \n",
      " 16  HouseStyle     1460 non-null   object \n",
      " 17  OverallQual    1460 non-null   int64  \n",
      " 18  OverallCond    1460 non-null   int64  \n",
      " 19  YearBuilt      1460 non-null   int64  \n",
      " 20  YearRemodAdd   1460 non-null   int64  \n",
      " 21  RoofStyle      1460 non-null   object \n",
      " 22  RoofMatl       1460 non-null   object \n",
      " 23  Exterior1st    1460 non-null   object \n",
      " 24  Exterior2nd    1460 non-null   object \n",
      " 25  MasVnrType     1452 non-null   object \n",
      " 26  MasVnrArea     1452 non-null   float64\n",
      " 27  ExterQual      1460 non-null   object \n",
      " 28  ExterCond      1460 non-null   object \n",
      " 29  Foundation     1460 non-null   object \n",
      " 30  BsmtQual       1423 non-null   object \n",
      " 31  BsmtCond       1423 non-null   object \n",
      " 32  BsmtExposure   1422 non-null   object \n",
      " 33  BsmtFinType1   1423 non-null   object \n",
      " 34  BsmtFinSF1     1460 non-null   int64  \n",
      " 35  BsmtFinType2   1422 non-null   object \n",
      " 36  BsmtFinSF2     1460 non-null   int64  \n",
      " 37  BsmtUnfSF      1460 non-null   int64  \n",
      " 38  TotalBsmtSF    1460 non-null   int64  \n",
      " 39  Heating        1460 non-null   object \n",
      " 40  HeatingQC      1460 non-null   object \n",
      " 41  CentralAir     1460 non-null   object \n",
      " 42  Electrical     1459 non-null   object \n",
      " 43  1stFlrSF       1460 non-null   int64  \n",
      " 44  2ndFlrSF       1460 non-null   int64  \n",
      " 45  LowQualFinSF   1460 non-null   int64  \n",
      " 46  GrLivArea      1460 non-null   int64  \n",
      " 47  BsmtFullBath   1460 non-null   int64  \n",
      " 48  BsmtHalfBath   1460 non-null   int64  \n",
      " 49  FullBath       1460 non-null   int64  \n",
      " 50  HalfBath       1460 non-null   int64  \n",
      " 51  BedroomAbvGr   1460 non-null   int64  \n",
      " 52  KitchenAbvGr   1460 non-null   int64  \n",
      " 53  KitchenQual    1460 non-null   object \n",
      " 54  TotRmsAbvGrd   1460 non-null   int64  \n",
      " 55  Functional     1460 non-null   object \n",
      " 56  Fireplaces     1460 non-null   int64  \n",
      " 57  FireplaceQu    770 non-null    object \n",
      " 58  GarageType     1379 non-null   object \n",
      " 59  GarageYrBlt    1379 non-null   float64\n",
      " 60  GarageFinish   1379 non-null   object \n",
      " 61  GarageCars     1460 non-null   int64  \n",
      " 62  GarageArea     1460 non-null   int64  \n",
      " 63  GarageQual     1379 non-null   object \n",
      " 64  GarageCond     1379 non-null   object \n",
      " 65  PavedDrive     1460 non-null   object \n",
      " 66  WoodDeckSF     1460 non-null   int64  \n",
      " 67  OpenPorchSF    1460 non-null   int64  \n",
      " 68  EnclosedPorch  1460 non-null   int64  \n",
      " 69  3SsnPorch      1460 non-null   int64  \n",
      " 70  ScreenPorch    1460 non-null   int64  \n",
      " 71  PoolArea       1460 non-null   int64  \n",
      " 72  PoolQC         7 non-null      object \n",
      " 73  Fence          281 non-null    object \n",
      " 74  MiscFeature    54 non-null     object \n",
      " 75  MiscVal        1460 non-null   int64  \n",
      " 76  MoSold         1460 non-null   int64  \n",
      " 77  YrSold         1460 non-null   int64  \n",
      " 78  SaleType       1460 non-null   object \n",
      " 79  SaleCondition  1460 non-null   object \n",
      " 80  Price          1460 non-null   int64  \n",
      "dtypes: float64(3), int64(35), object(43)\n",
      "memory usage: 924.0+ KB\n"
     ]
    }
   ],
   "source": [
    "dataset.info()"
   ]
  },
  {
   "cell_type": "markdown",
   "id": "8ac9f6b4",
   "metadata": {},
   "source": [
    "All columns are in float64 datatype"
   ]
  },
  {
   "cell_type": "code",
   "execution_count": 19,
   "id": "5e297ffb",
   "metadata": {},
   "outputs": [
    {
     "data": {
      "text/html": [
       "<div>\n",
       "<style scoped>\n",
       "    .dataframe tbody tr th:only-of-type {\n",
       "        vertical-align: middle;\n",
       "    }\n",
       "\n",
       "    .dataframe tbody tr th {\n",
       "        vertical-align: top;\n",
       "    }\n",
       "\n",
       "    .dataframe thead th {\n",
       "        text-align: right;\n",
       "    }\n",
       "</style>\n",
       "<table border=\"1\" class=\"dataframe\">\n",
       "  <thead>\n",
       "    <tr style=\"text-align: right;\">\n",
       "      <th></th>\n",
       "      <th>Id</th>\n",
       "      <th>MSSubClass</th>\n",
       "      <th>LotFrontage</th>\n",
       "      <th>LotArea</th>\n",
       "      <th>OverallQual</th>\n",
       "      <th>OverallCond</th>\n",
       "      <th>YearBuilt</th>\n",
       "      <th>YearRemodAdd</th>\n",
       "      <th>MasVnrArea</th>\n",
       "      <th>BsmtFinSF1</th>\n",
       "      <th>...</th>\n",
       "      <th>WoodDeckSF</th>\n",
       "      <th>OpenPorchSF</th>\n",
       "      <th>EnclosedPorch</th>\n",
       "      <th>3SsnPorch</th>\n",
       "      <th>ScreenPorch</th>\n",
       "      <th>PoolArea</th>\n",
       "      <th>MiscVal</th>\n",
       "      <th>MoSold</th>\n",
       "      <th>YrSold</th>\n",
       "      <th>Price</th>\n",
       "    </tr>\n",
       "  </thead>\n",
       "  <tbody>\n",
       "    <tr>\n",
       "      <th>count</th>\n",
       "      <td>1460.000000</td>\n",
       "      <td>1460.000000</td>\n",
       "      <td>1201.000000</td>\n",
       "      <td>1460.000000</td>\n",
       "      <td>1460.000000</td>\n",
       "      <td>1460.000000</td>\n",
       "      <td>1460.000000</td>\n",
       "      <td>1460.000000</td>\n",
       "      <td>1452.000000</td>\n",
       "      <td>1460.000000</td>\n",
       "      <td>...</td>\n",
       "      <td>1460.000000</td>\n",
       "      <td>1460.000000</td>\n",
       "      <td>1460.000000</td>\n",
       "      <td>1460.000000</td>\n",
       "      <td>1460.000000</td>\n",
       "      <td>1460.000000</td>\n",
       "      <td>1460.000000</td>\n",
       "      <td>1460.000000</td>\n",
       "      <td>1460.000000</td>\n",
       "      <td>1460.000000</td>\n",
       "    </tr>\n",
       "    <tr>\n",
       "      <th>mean</th>\n",
       "      <td>730.500000</td>\n",
       "      <td>56.897260</td>\n",
       "      <td>70.049958</td>\n",
       "      <td>10516.828082</td>\n",
       "      <td>6.099315</td>\n",
       "      <td>5.575342</td>\n",
       "      <td>1971.267808</td>\n",
       "      <td>1984.865753</td>\n",
       "      <td>103.685262</td>\n",
       "      <td>443.639726</td>\n",
       "      <td>...</td>\n",
       "      <td>94.244521</td>\n",
       "      <td>46.660274</td>\n",
       "      <td>21.954110</td>\n",
       "      <td>3.409589</td>\n",
       "      <td>15.060959</td>\n",
       "      <td>2.758904</td>\n",
       "      <td>43.489041</td>\n",
       "      <td>6.321918</td>\n",
       "      <td>2007.815753</td>\n",
       "      <td>180921.195890</td>\n",
       "    </tr>\n",
       "    <tr>\n",
       "      <th>std</th>\n",
       "      <td>421.610009</td>\n",
       "      <td>42.300571</td>\n",
       "      <td>24.284752</td>\n",
       "      <td>9981.264932</td>\n",
       "      <td>1.382997</td>\n",
       "      <td>1.112799</td>\n",
       "      <td>30.202904</td>\n",
       "      <td>20.645407</td>\n",
       "      <td>181.066207</td>\n",
       "      <td>456.098091</td>\n",
       "      <td>...</td>\n",
       "      <td>125.338794</td>\n",
       "      <td>66.256028</td>\n",
       "      <td>61.119149</td>\n",
       "      <td>29.317331</td>\n",
       "      <td>55.757415</td>\n",
       "      <td>40.177307</td>\n",
       "      <td>496.123024</td>\n",
       "      <td>2.703626</td>\n",
       "      <td>1.328095</td>\n",
       "      <td>79442.502883</td>\n",
       "    </tr>\n",
       "    <tr>\n",
       "      <th>min</th>\n",
       "      <td>1.000000</td>\n",
       "      <td>20.000000</td>\n",
       "      <td>21.000000</td>\n",
       "      <td>1300.000000</td>\n",
       "      <td>1.000000</td>\n",
       "      <td>1.000000</td>\n",
       "      <td>1872.000000</td>\n",
       "      <td>1950.000000</td>\n",
       "      <td>0.000000</td>\n",
       "      <td>0.000000</td>\n",
       "      <td>...</td>\n",
       "      <td>0.000000</td>\n",
       "      <td>0.000000</td>\n",
       "      <td>0.000000</td>\n",
       "      <td>0.000000</td>\n",
       "      <td>0.000000</td>\n",
       "      <td>0.000000</td>\n",
       "      <td>0.000000</td>\n",
       "      <td>1.000000</td>\n",
       "      <td>2006.000000</td>\n",
       "      <td>34900.000000</td>\n",
       "    </tr>\n",
       "    <tr>\n",
       "      <th>25%</th>\n",
       "      <td>365.750000</td>\n",
       "      <td>20.000000</td>\n",
       "      <td>59.000000</td>\n",
       "      <td>7553.500000</td>\n",
       "      <td>5.000000</td>\n",
       "      <td>5.000000</td>\n",
       "      <td>1954.000000</td>\n",
       "      <td>1967.000000</td>\n",
       "      <td>0.000000</td>\n",
       "      <td>0.000000</td>\n",
       "      <td>...</td>\n",
       "      <td>0.000000</td>\n",
       "      <td>0.000000</td>\n",
       "      <td>0.000000</td>\n",
       "      <td>0.000000</td>\n",
       "      <td>0.000000</td>\n",
       "      <td>0.000000</td>\n",
       "      <td>0.000000</td>\n",
       "      <td>5.000000</td>\n",
       "      <td>2007.000000</td>\n",
       "      <td>129975.000000</td>\n",
       "    </tr>\n",
       "    <tr>\n",
       "      <th>50%</th>\n",
       "      <td>730.500000</td>\n",
       "      <td>50.000000</td>\n",
       "      <td>69.000000</td>\n",
       "      <td>9478.500000</td>\n",
       "      <td>6.000000</td>\n",
       "      <td>5.000000</td>\n",
       "      <td>1973.000000</td>\n",
       "      <td>1994.000000</td>\n",
       "      <td>0.000000</td>\n",
       "      <td>383.500000</td>\n",
       "      <td>...</td>\n",
       "      <td>0.000000</td>\n",
       "      <td>25.000000</td>\n",
       "      <td>0.000000</td>\n",
       "      <td>0.000000</td>\n",
       "      <td>0.000000</td>\n",
       "      <td>0.000000</td>\n",
       "      <td>0.000000</td>\n",
       "      <td>6.000000</td>\n",
       "      <td>2008.000000</td>\n",
       "      <td>163000.000000</td>\n",
       "    </tr>\n",
       "    <tr>\n",
       "      <th>75%</th>\n",
       "      <td>1095.250000</td>\n",
       "      <td>70.000000</td>\n",
       "      <td>80.000000</td>\n",
       "      <td>11601.500000</td>\n",
       "      <td>7.000000</td>\n",
       "      <td>6.000000</td>\n",
       "      <td>2000.000000</td>\n",
       "      <td>2004.000000</td>\n",
       "      <td>166.000000</td>\n",
       "      <td>712.250000</td>\n",
       "      <td>...</td>\n",
       "      <td>168.000000</td>\n",
       "      <td>68.000000</td>\n",
       "      <td>0.000000</td>\n",
       "      <td>0.000000</td>\n",
       "      <td>0.000000</td>\n",
       "      <td>0.000000</td>\n",
       "      <td>0.000000</td>\n",
       "      <td>8.000000</td>\n",
       "      <td>2009.000000</td>\n",
       "      <td>214000.000000</td>\n",
       "    </tr>\n",
       "    <tr>\n",
       "      <th>max</th>\n",
       "      <td>1460.000000</td>\n",
       "      <td>190.000000</td>\n",
       "      <td>313.000000</td>\n",
       "      <td>215245.000000</td>\n",
       "      <td>10.000000</td>\n",
       "      <td>9.000000</td>\n",
       "      <td>2010.000000</td>\n",
       "      <td>2010.000000</td>\n",
       "      <td>1600.000000</td>\n",
       "      <td>5644.000000</td>\n",
       "      <td>...</td>\n",
       "      <td>857.000000</td>\n",
       "      <td>547.000000</td>\n",
       "      <td>552.000000</td>\n",
       "      <td>508.000000</td>\n",
       "      <td>480.000000</td>\n",
       "      <td>738.000000</td>\n",
       "      <td>15500.000000</td>\n",
       "      <td>12.000000</td>\n",
       "      <td>2010.000000</td>\n",
       "      <td>755000.000000</td>\n",
       "    </tr>\n",
       "  </tbody>\n",
       "</table>\n",
       "<p>8 rows × 38 columns</p>\n",
       "</div>"
      ],
      "text/plain": [
       "                Id   MSSubClass  LotFrontage        LotArea  OverallQual  \\\n",
       "count  1460.000000  1460.000000  1201.000000    1460.000000  1460.000000   \n",
       "mean    730.500000    56.897260    70.049958   10516.828082     6.099315   \n",
       "std     421.610009    42.300571    24.284752    9981.264932     1.382997   \n",
       "min       1.000000    20.000000    21.000000    1300.000000     1.000000   \n",
       "25%     365.750000    20.000000    59.000000    7553.500000     5.000000   \n",
       "50%     730.500000    50.000000    69.000000    9478.500000     6.000000   \n",
       "75%    1095.250000    70.000000    80.000000   11601.500000     7.000000   \n",
       "max    1460.000000   190.000000   313.000000  215245.000000    10.000000   \n",
       "\n",
       "       OverallCond    YearBuilt  YearRemodAdd   MasVnrArea   BsmtFinSF1  ...  \\\n",
       "count  1460.000000  1460.000000   1460.000000  1452.000000  1460.000000  ...   \n",
       "mean      5.575342  1971.267808   1984.865753   103.685262   443.639726  ...   \n",
       "std       1.112799    30.202904     20.645407   181.066207   456.098091  ...   \n",
       "min       1.000000  1872.000000   1950.000000     0.000000     0.000000  ...   \n",
       "25%       5.000000  1954.000000   1967.000000     0.000000     0.000000  ...   \n",
       "50%       5.000000  1973.000000   1994.000000     0.000000   383.500000  ...   \n",
       "75%       6.000000  2000.000000   2004.000000   166.000000   712.250000  ...   \n",
       "max       9.000000  2010.000000   2010.000000  1600.000000  5644.000000  ...   \n",
       "\n",
       "        WoodDeckSF  OpenPorchSF  EnclosedPorch    3SsnPorch  ScreenPorch  \\\n",
       "count  1460.000000  1460.000000    1460.000000  1460.000000  1460.000000   \n",
       "mean     94.244521    46.660274      21.954110     3.409589    15.060959   \n",
       "std     125.338794    66.256028      61.119149    29.317331    55.757415   \n",
       "min       0.000000     0.000000       0.000000     0.000000     0.000000   \n",
       "25%       0.000000     0.000000       0.000000     0.000000     0.000000   \n",
       "50%       0.000000    25.000000       0.000000     0.000000     0.000000   \n",
       "75%     168.000000    68.000000       0.000000     0.000000     0.000000   \n",
       "max     857.000000   547.000000     552.000000   508.000000   480.000000   \n",
       "\n",
       "          PoolArea       MiscVal       MoSold       YrSold          Price  \n",
       "count  1460.000000   1460.000000  1460.000000  1460.000000    1460.000000  \n",
       "mean      2.758904     43.489041     6.321918  2007.815753  180921.195890  \n",
       "std      40.177307    496.123024     2.703626     1.328095   79442.502883  \n",
       "min       0.000000      0.000000     1.000000  2006.000000   34900.000000  \n",
       "25%       0.000000      0.000000     5.000000  2007.000000  129975.000000  \n",
       "50%       0.000000      0.000000     6.000000  2008.000000  163000.000000  \n",
       "75%       0.000000      0.000000     8.000000  2009.000000  214000.000000  \n",
       "max     738.000000  15500.000000    12.000000  2010.000000  755000.000000  \n",
       "\n",
       "[8 rows x 38 columns]"
      ]
     },
     "execution_count": 19,
     "metadata": {},
     "output_type": "execute_result"
    }
   ],
   "source": [
    "dataset.describe()"
   ]
  },
  {
   "cell_type": "markdown",
   "id": "823863dc",
   "metadata": {},
   "source": [
    "dataset only check for numerical not categorical columns. In this case, all columns are numerical ie. float64."
   ]
  },
  {
   "cell_type": "code",
   "execution_count": 20,
   "id": "ea1321fc",
   "metadata": {},
   "outputs": [
    {
     "data": {
      "text/plain": [
       "Id                 0\n",
       "MSSubClass         0\n",
       "MSZoning           0\n",
       "LotFrontage      259\n",
       "LotArea            0\n",
       "                ... \n",
       "MoSold             0\n",
       "YrSold             0\n",
       "SaleType           0\n",
       "SaleCondition      0\n",
       "Price              0\n",
       "Length: 81, dtype: int64"
      ]
     },
     "execution_count": 20,
     "metadata": {},
     "output_type": "execute_result"
    }
   ],
   "source": [
    "# Checking for missing value count\n",
    "\n",
    "dataset.isnull().sum()"
   ]
  },
  {
   "cell_type": "markdown",
   "id": "c37323b0",
   "metadata": {},
   "source": [
    "There is no missing value present in dataset."
   ]
  },
  {
   "cell_type": "markdown",
   "id": "3affbb9a",
   "metadata": {},
   "source": [
    "# Exploratory data analysis(EDA)"
   ]
  },
  {
   "cell_type": "markdown",
   "id": "b0a2c244",
   "metadata": {},
   "source": [
    "In case of numerical dataset, there is high chance for calculating correlation between the variables/ attributes."
   ]
  },
  {
   "cell_type": "markdown",
   "id": "1769903f",
   "metadata": {},
   "source": [
    "# correlation"
   ]
  },
  {
   "cell_type": "code",
   "execution_count": 21,
   "id": "0b5113f7",
   "metadata": {},
   "outputs": [
    {
     "ename": "ValueError",
     "evalue": "could not convert string to float: 'RL'",
     "output_type": "error",
     "traceback": [
      "\u001b[1;31m---------------------------------------------------------------------------\u001b[0m",
      "\u001b[1;31mValueError\u001b[0m                                Traceback (most recent call last)",
      "Cell \u001b[1;32mIn[21], line 1\u001b[0m\n\u001b[1;32m----> 1\u001b[0m dataset\u001b[38;5;241m.\u001b[39mcorr()\n",
      "File \u001b[1;32m~\\anaconda3\\Lib\\site-packages\\pandas\\core\\frame.py:10054\u001b[0m, in \u001b[0;36mDataFrame.corr\u001b[1;34m(self, method, min_periods, numeric_only)\u001b[0m\n\u001b[0;32m  10052\u001b[0m cols \u001b[38;5;241m=\u001b[39m data\u001b[38;5;241m.\u001b[39mcolumns\n\u001b[0;32m  10053\u001b[0m idx \u001b[38;5;241m=\u001b[39m cols\u001b[38;5;241m.\u001b[39mcopy()\n\u001b[1;32m> 10054\u001b[0m mat \u001b[38;5;241m=\u001b[39m data\u001b[38;5;241m.\u001b[39mto_numpy(dtype\u001b[38;5;241m=\u001b[39m\u001b[38;5;28mfloat\u001b[39m, na_value\u001b[38;5;241m=\u001b[39mnp\u001b[38;5;241m.\u001b[39mnan, copy\u001b[38;5;241m=\u001b[39m\u001b[38;5;28;01mFalse\u001b[39;00m)\n\u001b[0;32m  10056\u001b[0m \u001b[38;5;28;01mif\u001b[39;00m method \u001b[38;5;241m==\u001b[39m \u001b[38;5;124m\"\u001b[39m\u001b[38;5;124mpearson\u001b[39m\u001b[38;5;124m\"\u001b[39m:\n\u001b[0;32m  10057\u001b[0m     correl \u001b[38;5;241m=\u001b[39m libalgos\u001b[38;5;241m.\u001b[39mnancorr(mat, minp\u001b[38;5;241m=\u001b[39mmin_periods)\n",
      "File \u001b[1;32m~\\anaconda3\\Lib\\site-packages\\pandas\\core\\frame.py:1838\u001b[0m, in \u001b[0;36mDataFrame.to_numpy\u001b[1;34m(self, dtype, copy, na_value)\u001b[0m\n\u001b[0;32m   1836\u001b[0m \u001b[38;5;28;01mif\u001b[39;00m dtype \u001b[38;5;129;01mis\u001b[39;00m \u001b[38;5;129;01mnot\u001b[39;00m \u001b[38;5;28;01mNone\u001b[39;00m:\n\u001b[0;32m   1837\u001b[0m     dtype \u001b[38;5;241m=\u001b[39m np\u001b[38;5;241m.\u001b[39mdtype(dtype)\n\u001b[1;32m-> 1838\u001b[0m result \u001b[38;5;241m=\u001b[39m \u001b[38;5;28mself\u001b[39m\u001b[38;5;241m.\u001b[39m_mgr\u001b[38;5;241m.\u001b[39mas_array(dtype\u001b[38;5;241m=\u001b[39mdtype, copy\u001b[38;5;241m=\u001b[39mcopy, na_value\u001b[38;5;241m=\u001b[39mna_value)\n\u001b[0;32m   1839\u001b[0m \u001b[38;5;28;01mif\u001b[39;00m result\u001b[38;5;241m.\u001b[39mdtype \u001b[38;5;129;01mis\u001b[39;00m \u001b[38;5;129;01mnot\u001b[39;00m dtype:\n\u001b[0;32m   1840\u001b[0m     result \u001b[38;5;241m=\u001b[39m np\u001b[38;5;241m.\u001b[39marray(result, dtype\u001b[38;5;241m=\u001b[39mdtype, copy\u001b[38;5;241m=\u001b[39m\u001b[38;5;28;01mFalse\u001b[39;00m)\n",
      "File \u001b[1;32m~\\anaconda3\\Lib\\site-packages\\pandas\\core\\internals\\managers.py:1732\u001b[0m, in \u001b[0;36mBlockManager.as_array\u001b[1;34m(self, dtype, copy, na_value)\u001b[0m\n\u001b[0;32m   1730\u001b[0m         arr\u001b[38;5;241m.\u001b[39mflags\u001b[38;5;241m.\u001b[39mwriteable \u001b[38;5;241m=\u001b[39m \u001b[38;5;28;01mFalse\u001b[39;00m\n\u001b[0;32m   1731\u001b[0m \u001b[38;5;28;01melse\u001b[39;00m:\n\u001b[1;32m-> 1732\u001b[0m     arr \u001b[38;5;241m=\u001b[39m \u001b[38;5;28mself\u001b[39m\u001b[38;5;241m.\u001b[39m_interleave(dtype\u001b[38;5;241m=\u001b[39mdtype, na_value\u001b[38;5;241m=\u001b[39mna_value)\n\u001b[0;32m   1733\u001b[0m     \u001b[38;5;66;03m# The underlying data was copied within _interleave, so no need\u001b[39;00m\n\u001b[0;32m   1734\u001b[0m     \u001b[38;5;66;03m# to further copy if copy=True or setting na_value\u001b[39;00m\n\u001b[0;32m   1736\u001b[0m \u001b[38;5;28;01mif\u001b[39;00m na_value \u001b[38;5;129;01mis\u001b[39;00m \u001b[38;5;129;01mnot\u001b[39;00m lib\u001b[38;5;241m.\u001b[39mno_default:\n",
      "File \u001b[1;32m~\\anaconda3\\Lib\\site-packages\\pandas\\core\\internals\\managers.py:1794\u001b[0m, in \u001b[0;36mBlockManager._interleave\u001b[1;34m(self, dtype, na_value)\u001b[0m\n\u001b[0;32m   1792\u001b[0m     \u001b[38;5;28;01melse\u001b[39;00m:\n\u001b[0;32m   1793\u001b[0m         arr \u001b[38;5;241m=\u001b[39m blk\u001b[38;5;241m.\u001b[39mget_values(dtype)\n\u001b[1;32m-> 1794\u001b[0m     result[rl\u001b[38;5;241m.\u001b[39mindexer] \u001b[38;5;241m=\u001b[39m arr\n\u001b[0;32m   1795\u001b[0m     itemmask[rl\u001b[38;5;241m.\u001b[39mindexer] \u001b[38;5;241m=\u001b[39m \u001b[38;5;241m1\u001b[39m\n\u001b[0;32m   1797\u001b[0m \u001b[38;5;28;01mif\u001b[39;00m \u001b[38;5;129;01mnot\u001b[39;00m itemmask\u001b[38;5;241m.\u001b[39mall():\n",
      "\u001b[1;31mValueError\u001b[0m: could not convert string to float: 'RL'"
     ]
    }
   ],
   "source": [
    "dataset.corr()"
   ]
  },
  {
   "cell_type": "markdown",
   "id": "4072eca0",
   "metadata": {},
   "source": [
    "Here we have to analysis correlation between 2 independent variables as well as independent and dependent variables.\n",
    "corr ===> (-1,+1)\\n\n",
    "if 2 independent variables have correlation nearly equal to 1 it is called multicollinearity and we have to remove any one of them.\n"
   ]
  },
  {
   "cell_type": "markdown",
   "id": "4cbfa99d",
   "metadata": {},
   "source": [
    "From the table we can say that if CRIM==1.00 then Price will be negatively correlated to it. That is,less house price.   same for the others "
   ]
  },
  {
   "cell_type": "code",
   "execution_count": null,
   "id": "e3e7bfc8",
   "metadata": {},
   "outputs": [],
   "source": [
    "import seaborn as sns\n",
    "sns.pairplot(dataset)"
   ]
  },
  {
   "cell_type": "markdown",
   "id": "196c1b11",
   "metadata": {},
   "source": [
    "It is used for more understanding of the correlation."
   ]
  },
  {
   "cell_type": "code",
   "execution_count": null,
   "id": "3fbc1db1",
   "metadata": {},
   "outputs": [],
   "source": []
  },
  {
   "cell_type": "code",
   "execution_count": 22,
   "id": "4ab13204",
   "metadata": {},
   "outputs": [
    {
     "ename": "KeyError",
     "evalue": "'CRIM'",
     "output_type": "error",
     "traceback": [
      "\u001b[1;31m---------------------------------------------------------------------------\u001b[0m",
      "\u001b[1;31mKeyError\u001b[0m                                  Traceback (most recent call last)",
      "File \u001b[1;32m~\\anaconda3\\Lib\\site-packages\\pandas\\core\\indexes\\base.py:3653\u001b[0m, in \u001b[0;36mIndex.get_loc\u001b[1;34m(self, key)\u001b[0m\n\u001b[0;32m   3652\u001b[0m \u001b[38;5;28;01mtry\u001b[39;00m:\n\u001b[1;32m-> 3653\u001b[0m     \u001b[38;5;28;01mreturn\u001b[39;00m \u001b[38;5;28mself\u001b[39m\u001b[38;5;241m.\u001b[39m_engine\u001b[38;5;241m.\u001b[39mget_loc(casted_key)\n\u001b[0;32m   3654\u001b[0m \u001b[38;5;28;01mexcept\u001b[39;00m \u001b[38;5;167;01mKeyError\u001b[39;00m \u001b[38;5;28;01mas\u001b[39;00m err:\n",
      "File \u001b[1;32m~\\anaconda3\\Lib\\site-packages\\pandas\\_libs\\index.pyx:147\u001b[0m, in \u001b[0;36mpandas._libs.index.IndexEngine.get_loc\u001b[1;34m()\u001b[0m\n",
      "File \u001b[1;32m~\\anaconda3\\Lib\\site-packages\\pandas\\_libs\\index.pyx:176\u001b[0m, in \u001b[0;36mpandas._libs.index.IndexEngine.get_loc\u001b[1;34m()\u001b[0m\n",
      "File \u001b[1;32mpandas\\_libs\\hashtable_class_helper.pxi:7080\u001b[0m, in \u001b[0;36mpandas._libs.hashtable.PyObjectHashTable.get_item\u001b[1;34m()\u001b[0m\n",
      "File \u001b[1;32mpandas\\_libs\\hashtable_class_helper.pxi:7088\u001b[0m, in \u001b[0;36mpandas._libs.hashtable.PyObjectHashTable.get_item\u001b[1;34m()\u001b[0m\n",
      "\u001b[1;31mKeyError\u001b[0m: 'CRIM'",
      "\nThe above exception was the direct cause of the following exception:\n",
      "\u001b[1;31mKeyError\u001b[0m                                  Traceback (most recent call last)",
      "Cell \u001b[1;32mIn[22], line 1\u001b[0m\n\u001b[1;32m----> 1\u001b[0m plt\u001b[38;5;241m.\u001b[39mscatter(dataset[\u001b[38;5;124m'\u001b[39m\u001b[38;5;124mCRIM\u001b[39m\u001b[38;5;124m'\u001b[39m], dataset[\u001b[38;5;124m'\u001b[39m\u001b[38;5;124mPrice\u001b[39m\u001b[38;5;124m'\u001b[39m])\n\u001b[0;32m      2\u001b[0m plt\u001b[38;5;241m.\u001b[39mxlabel(\u001b[38;5;124m'\u001b[39m\u001b[38;5;124mCrime Rate\u001b[39m\u001b[38;5;124m'\u001b[39m)\n\u001b[0;32m      3\u001b[0m plt\u001b[38;5;241m.\u001b[39mylabel(\u001b[38;5;124m'\u001b[39m\u001b[38;5;124mPrice\u001b[39m\u001b[38;5;124m'\u001b[39m)\n",
      "File \u001b[1;32m~\\anaconda3\\Lib\\site-packages\\pandas\\core\\frame.py:3761\u001b[0m, in \u001b[0;36mDataFrame.__getitem__\u001b[1;34m(self, key)\u001b[0m\n\u001b[0;32m   3759\u001b[0m \u001b[38;5;28;01mif\u001b[39;00m \u001b[38;5;28mself\u001b[39m\u001b[38;5;241m.\u001b[39mcolumns\u001b[38;5;241m.\u001b[39mnlevels \u001b[38;5;241m>\u001b[39m \u001b[38;5;241m1\u001b[39m:\n\u001b[0;32m   3760\u001b[0m     \u001b[38;5;28;01mreturn\u001b[39;00m \u001b[38;5;28mself\u001b[39m\u001b[38;5;241m.\u001b[39m_getitem_multilevel(key)\n\u001b[1;32m-> 3761\u001b[0m indexer \u001b[38;5;241m=\u001b[39m \u001b[38;5;28mself\u001b[39m\u001b[38;5;241m.\u001b[39mcolumns\u001b[38;5;241m.\u001b[39mget_loc(key)\n\u001b[0;32m   3762\u001b[0m \u001b[38;5;28;01mif\u001b[39;00m is_integer(indexer):\n\u001b[0;32m   3763\u001b[0m     indexer \u001b[38;5;241m=\u001b[39m [indexer]\n",
      "File \u001b[1;32m~\\anaconda3\\Lib\\site-packages\\pandas\\core\\indexes\\base.py:3655\u001b[0m, in \u001b[0;36mIndex.get_loc\u001b[1;34m(self, key)\u001b[0m\n\u001b[0;32m   3653\u001b[0m     \u001b[38;5;28;01mreturn\u001b[39;00m \u001b[38;5;28mself\u001b[39m\u001b[38;5;241m.\u001b[39m_engine\u001b[38;5;241m.\u001b[39mget_loc(casted_key)\n\u001b[0;32m   3654\u001b[0m \u001b[38;5;28;01mexcept\u001b[39;00m \u001b[38;5;167;01mKeyError\u001b[39;00m \u001b[38;5;28;01mas\u001b[39;00m err:\n\u001b[1;32m-> 3655\u001b[0m     \u001b[38;5;28;01mraise\u001b[39;00m \u001b[38;5;167;01mKeyError\u001b[39;00m(key) \u001b[38;5;28;01mfrom\u001b[39;00m \u001b[38;5;21;01merr\u001b[39;00m\n\u001b[0;32m   3656\u001b[0m \u001b[38;5;28;01mexcept\u001b[39;00m \u001b[38;5;167;01mTypeError\u001b[39;00m:\n\u001b[0;32m   3657\u001b[0m     \u001b[38;5;66;03m# If we have a listlike key, _check_indexing_error will raise\u001b[39;00m\n\u001b[0;32m   3658\u001b[0m     \u001b[38;5;66;03m#  InvalidIndexError. Otherwise we fall through and re-raise\u001b[39;00m\n\u001b[0;32m   3659\u001b[0m     \u001b[38;5;66;03m#  the TypeError.\u001b[39;00m\n\u001b[0;32m   3660\u001b[0m     \u001b[38;5;28mself\u001b[39m\u001b[38;5;241m.\u001b[39m_check_indexing_error(key)\n",
      "\u001b[1;31mKeyError\u001b[0m: 'CRIM'"
     ]
    }
   ],
   "source": [
    "plt.scatter(dataset['CRIM'], dataset['Price'])\n",
    "plt.xlabel('Crime Rate')\n",
    "plt.ylabel('Price')\n",
    "plt.show()"
   ]
  },
  {
   "cell_type": "markdown",
   "id": "ccd04ef2",
   "metadata": {},
   "source": [
    "We can say that if the crime rate is less then price of the house is very high."
   ]
  },
  {
   "cell_type": "code",
   "execution_count": 23,
   "id": "5a76cd4c",
   "metadata": {},
   "outputs": [
    {
     "ename": "KeyError",
     "evalue": "'RM'",
     "output_type": "error",
     "traceback": [
      "\u001b[1;31m---------------------------------------------------------------------------\u001b[0m",
      "\u001b[1;31mKeyError\u001b[0m                                  Traceback (most recent call last)",
      "File \u001b[1;32m~\\anaconda3\\Lib\\site-packages\\pandas\\core\\indexes\\base.py:3653\u001b[0m, in \u001b[0;36mIndex.get_loc\u001b[1;34m(self, key)\u001b[0m\n\u001b[0;32m   3652\u001b[0m \u001b[38;5;28;01mtry\u001b[39;00m:\n\u001b[1;32m-> 3653\u001b[0m     \u001b[38;5;28;01mreturn\u001b[39;00m \u001b[38;5;28mself\u001b[39m\u001b[38;5;241m.\u001b[39m_engine\u001b[38;5;241m.\u001b[39mget_loc(casted_key)\n\u001b[0;32m   3654\u001b[0m \u001b[38;5;28;01mexcept\u001b[39;00m \u001b[38;5;167;01mKeyError\u001b[39;00m \u001b[38;5;28;01mas\u001b[39;00m err:\n",
      "File \u001b[1;32m~\\anaconda3\\Lib\\site-packages\\pandas\\_libs\\index.pyx:147\u001b[0m, in \u001b[0;36mpandas._libs.index.IndexEngine.get_loc\u001b[1;34m()\u001b[0m\n",
      "File \u001b[1;32m~\\anaconda3\\Lib\\site-packages\\pandas\\_libs\\index.pyx:176\u001b[0m, in \u001b[0;36mpandas._libs.index.IndexEngine.get_loc\u001b[1;34m()\u001b[0m\n",
      "File \u001b[1;32mpandas\\_libs\\hashtable_class_helper.pxi:7080\u001b[0m, in \u001b[0;36mpandas._libs.hashtable.PyObjectHashTable.get_item\u001b[1;34m()\u001b[0m\n",
      "File \u001b[1;32mpandas\\_libs\\hashtable_class_helper.pxi:7088\u001b[0m, in \u001b[0;36mpandas._libs.hashtable.PyObjectHashTable.get_item\u001b[1;34m()\u001b[0m\n",
      "\u001b[1;31mKeyError\u001b[0m: 'RM'",
      "\nThe above exception was the direct cause of the following exception:\n",
      "\u001b[1;31mKeyError\u001b[0m                                  Traceback (most recent call last)",
      "Cell \u001b[1;32mIn[23], line 1\u001b[0m\n\u001b[1;32m----> 1\u001b[0m plt\u001b[38;5;241m.\u001b[39mscatter(dataset[\u001b[38;5;124m'\u001b[39m\u001b[38;5;124mRM\u001b[39m\u001b[38;5;124m'\u001b[39m], dataset[\u001b[38;5;124m'\u001b[39m\u001b[38;5;124mPrice\u001b[39m\u001b[38;5;124m'\u001b[39m])\n\u001b[0;32m      2\u001b[0m plt\u001b[38;5;241m.\u001b[39mxlabel(\u001b[38;5;124m'\u001b[39m\u001b[38;5;124mAverage no. of rooms\u001b[39m\u001b[38;5;124m'\u001b[39m)\n\u001b[0;32m      3\u001b[0m plt\u001b[38;5;241m.\u001b[39mylabel(\u001b[38;5;124m'\u001b[39m\u001b[38;5;124mPrice\u001b[39m\u001b[38;5;124m'\u001b[39m)\n",
      "File \u001b[1;32m~\\anaconda3\\Lib\\site-packages\\pandas\\core\\frame.py:3761\u001b[0m, in \u001b[0;36mDataFrame.__getitem__\u001b[1;34m(self, key)\u001b[0m\n\u001b[0;32m   3759\u001b[0m \u001b[38;5;28;01mif\u001b[39;00m \u001b[38;5;28mself\u001b[39m\u001b[38;5;241m.\u001b[39mcolumns\u001b[38;5;241m.\u001b[39mnlevels \u001b[38;5;241m>\u001b[39m \u001b[38;5;241m1\u001b[39m:\n\u001b[0;32m   3760\u001b[0m     \u001b[38;5;28;01mreturn\u001b[39;00m \u001b[38;5;28mself\u001b[39m\u001b[38;5;241m.\u001b[39m_getitem_multilevel(key)\n\u001b[1;32m-> 3761\u001b[0m indexer \u001b[38;5;241m=\u001b[39m \u001b[38;5;28mself\u001b[39m\u001b[38;5;241m.\u001b[39mcolumns\u001b[38;5;241m.\u001b[39mget_loc(key)\n\u001b[0;32m   3762\u001b[0m \u001b[38;5;28;01mif\u001b[39;00m is_integer(indexer):\n\u001b[0;32m   3763\u001b[0m     indexer \u001b[38;5;241m=\u001b[39m [indexer]\n",
      "File \u001b[1;32m~\\anaconda3\\Lib\\site-packages\\pandas\\core\\indexes\\base.py:3655\u001b[0m, in \u001b[0;36mIndex.get_loc\u001b[1;34m(self, key)\u001b[0m\n\u001b[0;32m   3653\u001b[0m     \u001b[38;5;28;01mreturn\u001b[39;00m \u001b[38;5;28mself\u001b[39m\u001b[38;5;241m.\u001b[39m_engine\u001b[38;5;241m.\u001b[39mget_loc(casted_key)\n\u001b[0;32m   3654\u001b[0m \u001b[38;5;28;01mexcept\u001b[39;00m \u001b[38;5;167;01mKeyError\u001b[39;00m \u001b[38;5;28;01mas\u001b[39;00m err:\n\u001b[1;32m-> 3655\u001b[0m     \u001b[38;5;28;01mraise\u001b[39;00m \u001b[38;5;167;01mKeyError\u001b[39;00m(key) \u001b[38;5;28;01mfrom\u001b[39;00m \u001b[38;5;21;01merr\u001b[39;00m\n\u001b[0;32m   3656\u001b[0m \u001b[38;5;28;01mexcept\u001b[39;00m \u001b[38;5;167;01mTypeError\u001b[39;00m:\n\u001b[0;32m   3657\u001b[0m     \u001b[38;5;66;03m# If we have a listlike key, _check_indexing_error will raise\u001b[39;00m\n\u001b[0;32m   3658\u001b[0m     \u001b[38;5;66;03m#  InvalidIndexError. Otherwise we fall through and re-raise\u001b[39;00m\n\u001b[0;32m   3659\u001b[0m     \u001b[38;5;66;03m#  the TypeError.\u001b[39;00m\n\u001b[0;32m   3660\u001b[0m     \u001b[38;5;28mself\u001b[39m\u001b[38;5;241m.\u001b[39m_check_indexing_error(key)\n",
      "\u001b[1;31mKeyError\u001b[0m: 'RM'"
     ]
    }
   ],
   "source": [
    "plt.scatter(dataset['RM'], dataset['Price'])\n",
    "plt.xlabel('Average no. of rooms')\n",
    "plt.ylabel('Price')\n",
    "plt.show()"
   ]
  },
  {
   "cell_type": "markdown",
   "id": "b4aefac7",
   "metadata": {},
   "source": [
    "As the average number of rooms increases the price also increases."
   ]
  },
  {
   "cell_type": "code",
   "execution_count": 34,
   "id": "f3050b77",
   "metadata": {},
   "outputs": [
    {
     "data": {
      "text/plain": [
       "<AxesSubplot:xlabel='RM', ylabel='Price'>"
      ]
     },
     "execution_count": 34,
     "metadata": {},
     "output_type": "execute_result"
    },
    {
     "data": {
      "image/png": "[encoded data removed]",
      "text/plain": [
       "<Figure size 640x480 with 1 Axes>"
      ]
     },
     "metadata": {},
     "output_type": "display_data"
    }
   ],
   "source": [
    "sns.regplot(x='RM', y='Price', data = dataset)"
   ]
  },
  {
   "cell_type": "code",
   "execution_count": 35,
   "id": "9ac12832",
   "metadata": {},
   "outputs": [
    {
     "name": "stderr",
     "output_type": "stream",
     "text": [
      "C:\\Users\\Dell\\anaconda3\\lib\\site-packages\\seaborn\\_decorators.py:36: FutureWarning: Pass the following variables as keyword args: x, y. From version 0.12, the only valid positional argument will be `data`, and passing other arguments without an explicit keyword will result in an error or misinterpretation.\n",
      "  warnings.warn(\n"
     ]
    },
    {
     "data": {
      "text/plain": [
       "<AxesSubplot:xlabel='RM', ylabel='Price'>"
      ]
     },
     "execution_count": 35,
     "metadata": {},
     "output_type": "execute_result"
    },
    {
     "data": {
      "image/png": "[encoded data removed]",
      "text/plain": [
       "<Figure size 640x480 with 1 Axes>"
      ]
     },
     "metadata": {},
     "output_type": "display_data"
    }
   ],
   "source": [
    "sns.regplot(dataset['RM'], dataset['Price'], data = dataset)"
   ]
  },
  {
   "cell_type": "code",
   "execution_count": 36,
   "id": "fd500256",
   "metadata": {},
   "outputs": [
    {
     "data": {
      "text/plain": [
       "<AxesSubplot:xlabel='LSTAT', ylabel='Price'>"
      ]
     },
     "execution_count": 36,
     "metadata": {},
     "output_type": "execute_result"
    },
    {
     "data": {
      "image/png": "[encoded data removed]",
      "text/plain": [
       "<Figure size 640x480 with 1 Axes>"
      ]
     },
     "metadata": {},
     "output_type": "display_data"
    }
   ],
   "source": [
    "sns.regplot(x='LSTAT', y='Price', data = dataset)"
   ]
  },
  {
   "cell_type": "markdown",
   "id": "0558a323",
   "metadata": {},
   "source": [
    "From the plot, it is seen that % lower status of the population is negatively correlated to price."
   ]
  },
  {
   "cell_type": "code",
   "execution_count": 38,
   "id": "5371ced4",
   "metadata": {},
   "outputs": [
    {
     "data": {
      "text/plain": [
       "<AxesSubplot:xlabel='CHAS', ylabel='Price'>"
      ]
     },
     "execution_count": 38,
     "metadata": {},
     "output_type": "execute_result"
    },
    {
     "data": {
      "image/png": "[encoded data removed]",
      "text/plain": [
       "<Figure size 640x480 with 1 Axes>"
      ]
     },
     "metadata": {},
     "output_type": "display_data"
    }
   ],
   "source": [
    "sns.regplot(x='CHAS', y='Price', data = dataset)"
   ]
  },
  {
   "cell_type": "markdown",
   "id": "35e14c9b",
   "metadata": {},
   "source": [
    "No correlation is present there."
   ]
  },
  {
   "cell_type": "code",
   "execution_count": 39,
   "id": "305cde7a",
   "metadata": {},
   "outputs": [
    {
     "data": {
      "text/plain": [
       "<AxesSubplot:xlabel='PTRATIO', ylabel='Price'>"
      ]
     },
     "execution_count": 39,
     "metadata": {},
     "output_type": "execute_result"
    },
    {
     "data": {
      "image/png": "[encoded data removed]",
      "text/plain": [
       "<Figure size 640x480 with 1 Axes>"
      ]
     },
     "metadata": {},
     "output_type": "display_data"
    }
   ],
   "source": [
    "sns.regplot(x='PTRATIO', y='Price', data = dataset)"
   ]
  },
  {
   "cell_type": "markdown",
   "id": "3e73f2e9",
   "metadata": {},
   "source": [
    "As the PTRATIO or Pupil teacher ratio increases the price decreases."
   ]
  },
  {
   "cell_type": "markdown",
   "id": "c33b62ba",
   "metadata": {},
   "source": [
    "Pupil-teacher ratio is calculated by dividing the number of students at the specified level of education by the number of teachers at the same level of education."
   ]
  },
  {
   "cell_type": "markdown",
   "id": "8ed3744b",
   "metadata": {},
   "source": [
    "# Independent and dependent features:"
   ]
  },
  {
   "cell_type": "code",
   "execution_count": 40,
   "id": "53f34d6e",
   "metadata": {},
   "outputs": [],
   "source": [
    "X = dataset.iloc[:, :-1]\n",
    "y = dataset.iloc[:, -1]"
   ]
  },
  {
   "cell_type": "code",
   "execution_count": 41,
   "id": "3f0de80b",
   "metadata": {},
   "outputs": [
    {
     "data": {
      "text/html": [
       "<div>\n",
       "<style scoped>\n",
       "    .dataframe tbody tr th:only-of-type {\n",
       "        vertical-align: middle;\n",
       "    }\n",
       "\n",
       "    .dataframe tbody tr th {\n",
       "        vertical-align: top;\n",
       "    }\n",
       "\n",
       "    .dataframe thead th {\n",
       "        text-align: right;\n",
       "    }\n",
       "</style>\n",
       "<table border=\"1\" class=\"dataframe\">\n",
       "  <thead>\n",
       "    <tr style=\"text-align: right;\">\n",
       "      <th></th>\n",
       "      <th>CRIM</th>\n",
       "      <th>ZN</th>\n",
       "      <th>INDUS</th>\n",
       "      <th>CHAS</th>\n",
       "      <th>NOX</th>\n",
       "      <th>RM</th>\n",
       "      <th>AGE</th>\n",
       "      <th>DIS</th>\n",
       "      <th>RAD</th>\n",
       "      <th>TAX</th>\n",
       "      <th>PTRATIO</th>\n",
       "      <th>B</th>\n",
       "      <th>LSTAT</th>\n",
       "    </tr>\n",
       "  </thead>\n",
       "  <tbody>\n",
       "    <tr>\n",
       "      <th>0</th>\n",
       "      <td>0.00632</td>\n",
       "      <td>18.0</td>\n",
       "      <td>2.31</td>\n",
       "      <td>0.0</td>\n",
       "      <td>0.538</td>\n",
       "      <td>6.575</td>\n",
       "      <td>65.2</td>\n",
       "      <td>4.0900</td>\n",
       "      <td>1.0</td>\n",
       "      <td>296.0</td>\n",
       "      <td>15.3</td>\n",
       "      <td>396.90</td>\n",
       "      <td>4.98</td>\n",
       "    </tr>\n",
       "    <tr>\n",
       "      <th>1</th>\n",
       "      <td>0.02731</td>\n",
       "      <td>0.0</td>\n",
       "      <td>7.07</td>\n",
       "      <td>0.0</td>\n",
       "      <td>0.469</td>\n",
       "      <td>6.421</td>\n",
       "      <td>78.9</td>\n",
       "      <td>4.9671</td>\n",
       "      <td>2.0</td>\n",
       "      <td>242.0</td>\n",
       "      <td>17.8</td>\n",
       "      <td>396.90</td>\n",
       "      <td>9.14</td>\n",
       "    </tr>\n",
       "    <tr>\n",
       "      <th>2</th>\n",
       "      <td>0.02729</td>\n",
       "      <td>0.0</td>\n",
       "      <td>7.07</td>\n",
       "      <td>0.0</td>\n",
       "      <td>0.469</td>\n",
       "      <td>7.185</td>\n",
       "      <td>61.1</td>\n",
       "      <td>4.9671</td>\n",
       "      <td>2.0</td>\n",
       "      <td>242.0</td>\n",
       "      <td>17.8</td>\n",
       "      <td>392.83</td>\n",
       "      <td>4.03</td>\n",
       "    </tr>\n",
       "    <tr>\n",
       "      <th>3</th>\n",
       "      <td>0.03237</td>\n",
       "      <td>0.0</td>\n",
       "      <td>2.18</td>\n",
       "      <td>0.0</td>\n",
       "      <td>0.458</td>\n",
       "      <td>6.998</td>\n",
       "      <td>45.8</td>\n",
       "      <td>6.0622</td>\n",
       "      <td>3.0</td>\n",
       "      <td>222.0</td>\n",
       "      <td>18.7</td>\n",
       "      <td>394.63</td>\n",
       "      <td>2.94</td>\n",
       "    </tr>\n",
       "    <tr>\n",
       "      <th>4</th>\n",
       "      <td>0.06905</td>\n",
       "      <td>0.0</td>\n",
       "      <td>2.18</td>\n",
       "      <td>0.0</td>\n",
       "      <td>0.458</td>\n",
       "      <td>7.147</td>\n",
       "      <td>54.2</td>\n",
       "      <td>6.0622</td>\n",
       "      <td>3.0</td>\n",
       "      <td>222.0</td>\n",
       "      <td>18.7</td>\n",
       "      <td>396.90</td>\n",
       "      <td>5.33</td>\n",
       "    </tr>\n",
       "  </tbody>\n",
       "</table>\n",
       "</div>"
      ],
      "text/plain": [
       "      CRIM    ZN  INDUS  CHAS    NOX     RM   AGE     DIS  RAD    TAX  \\\n",
       "0  0.00632  18.0   2.31   0.0  0.538  6.575  65.2  4.0900  1.0  296.0   \n",
       "1  0.02731   0.0   7.07   0.0  0.469  6.421  78.9  4.9671  2.0  242.0   \n",
       "2  0.02729   0.0   7.07   0.0  0.469  7.185  61.1  4.9671  2.0  242.0   \n",
       "3  0.03237   0.0   2.18   0.0  0.458  6.998  45.8  6.0622  3.0  222.0   \n",
       "4  0.06905   0.0   2.18   0.0  0.458  7.147  54.2  6.0622  3.0  222.0   \n",
       "\n",
       "   PTRATIO       B  LSTAT  \n",
       "0     15.3  396.90   4.98  \n",
       "1     17.8  396.90   9.14  \n",
       "2     17.8  392.83   4.03  \n",
       "3     18.7  394.63   2.94  \n",
       "4     18.7  396.90   5.33  "
      ]
     },
     "execution_count": 41,
     "metadata": {},
     "output_type": "execute_result"
    }
   ],
   "source": [
    "X.head()"
   ]
  },
  {
   "cell_type": "code",
   "execution_count": 55,
   "id": "cf6e2ff7",
   "metadata": {},
   "outputs": [
    {
     "data": {
      "text/plain": [
       "0    24.0\n",
       "1    21.6\n",
       "2    34.7\n",
       "3    33.4\n",
       "4    36.2\n",
       "Name: Price, dtype: float64"
      ]
     },
     "execution_count": 55,
     "metadata": {},
     "output_type": "execute_result"
    }
   ],
   "source": [
    "y.head()"
   ]
  },
  {
   "cell_type": "code",
   "execution_count": null,
   "id": "a47530ea",
   "metadata": {},
   "outputs": [],
   "source": []
  },
  {
   "cell_type": "code",
   "execution_count": 74,
   "id": "ac8da639",
   "metadata": {},
   "outputs": [
    {
     "data": {
      "text/html": [
       "<div>\n",
       "<style scoped>\n",
       "    .dataframe tbody tr th:only-of-type {\n",
       "        vertical-align: middle;\n",
       "    }\n",
       "\n",
       "    .dataframe tbody tr th {\n",
       "        vertical-align: top;\n",
       "    }\n",
       "\n",
       "    .dataframe thead th {\n",
       "        text-align: right;\n",
       "    }\n",
       "</style>\n",
       "<table border=\"1\" class=\"dataframe\">\n",
       "  <thead>\n",
       "    <tr style=\"text-align: right;\">\n",
       "      <th></th>\n",
       "      <th>Price</th>\n",
       "    </tr>\n",
       "  </thead>\n",
       "  <tbody>\n",
       "    <tr>\n",
       "      <th>0</th>\n",
       "      <td>24.0</td>\n",
       "    </tr>\n",
       "    <tr>\n",
       "      <th>1</th>\n",
       "      <td>21.6</td>\n",
       "    </tr>\n",
       "    <tr>\n",
       "      <th>2</th>\n",
       "      <td>34.7</td>\n",
       "    </tr>\n",
       "    <tr>\n",
       "      <th>3</th>\n",
       "      <td>33.4</td>\n",
       "    </tr>\n",
       "    <tr>\n",
       "      <th>4</th>\n",
       "      <td>36.2</td>\n",
       "    </tr>\n",
       "  </tbody>\n",
       "</table>\n",
       "</div>"
      ],
      "text/plain": [
       "   Price\n",
       "0   24.0\n",
       "1   21.6\n",
       "2   34.7\n",
       "3   33.4\n",
       "4   36.2"
      ]
     },
     "execution_count": 74,
     "metadata": {},
     "output_type": "execute_result"
    }
   ],
   "source": [
    "y.head()"
   ]
  },
  {
   "cell_type": "markdown",
   "id": "40ba51ea",
   "metadata": {},
   "source": [
    "# Train_test_split"
   ]
  },
  {
   "cell_type": "code",
   "execution_count": 75,
   "id": "a6e1365f",
   "metadata": {},
   "outputs": [],
   "source": [
    "from sklearn.model_selection import train_test_split"
   ]
  },
  {
   "cell_type": "code",
   "execution_count": 76,
   "id": "2044562a",
   "metadata": {},
   "outputs": [],
   "source": [
    "X_train, X_test, y_train, y_test = train_test_split(X, y, test_size=0.3, random_state=0)"
   ]
  },
  {
   "cell_type": "code",
   "execution_count": 77,
   "id": "b52c6fa0",
   "metadata": {},
   "outputs": [
    {
     "data": {
      "text/html": [
       "<div>\n",
       "<style scoped>\n",
       "    .dataframe tbody tr th:only-of-type {\n",
       "        vertical-align: middle;\n",
       "    }\n",
       "\n",
       "    .dataframe tbody tr th {\n",
       "        vertical-align: top;\n",
       "    }\n",
       "\n",
       "    .dataframe thead th {\n",
       "        text-align: right;\n",
       "    }\n",
       "</style>\n",
       "<table border=\"1\" class=\"dataframe\">\n",
       "  <thead>\n",
       "    <tr style=\"text-align: right;\">\n",
       "      <th></th>\n",
       "      <th>CRIM</th>\n",
       "      <th>ZN</th>\n",
       "      <th>INDUS</th>\n",
       "      <th>CHAS</th>\n",
       "      <th>NOX</th>\n",
       "      <th>RM</th>\n",
       "      <th>AGE</th>\n",
       "      <th>DIS</th>\n",
       "      <th>RAD</th>\n",
       "      <th>TAX</th>\n",
       "      <th>PTRATIO</th>\n",
       "      <th>B</th>\n",
       "      <th>LSTAT</th>\n",
       "    </tr>\n",
       "  </thead>\n",
       "  <tbody>\n",
       "    <tr>\n",
       "      <th>141</th>\n",
       "      <td>1.62864</td>\n",
       "      <td>0.0</td>\n",
       "      <td>21.89</td>\n",
       "      <td>0.0</td>\n",
       "      <td>0.624</td>\n",
       "      <td>5.019</td>\n",
       "      <td>100.0</td>\n",
       "      <td>1.4394</td>\n",
       "      <td>4.0</td>\n",
       "      <td>437.0</td>\n",
       "      <td>21.2</td>\n",
       "      <td>396.90</td>\n",
       "      <td>34.41</td>\n",
       "    </tr>\n",
       "    <tr>\n",
       "      <th>272</th>\n",
       "      <td>0.11460</td>\n",
       "      <td>20.0</td>\n",
       "      <td>6.96</td>\n",
       "      <td>0.0</td>\n",
       "      <td>0.464</td>\n",
       "      <td>6.538</td>\n",
       "      <td>58.7</td>\n",
       "      <td>3.9175</td>\n",
       "      <td>3.0</td>\n",
       "      <td>223.0</td>\n",
       "      <td>18.6</td>\n",
       "      <td>394.96</td>\n",
       "      <td>7.73</td>\n",
       "    </tr>\n",
       "    <tr>\n",
       "      <th>135</th>\n",
       "      <td>0.55778</td>\n",
       "      <td>0.0</td>\n",
       "      <td>21.89</td>\n",
       "      <td>0.0</td>\n",
       "      <td>0.624</td>\n",
       "      <td>6.335</td>\n",
       "      <td>98.2</td>\n",
       "      <td>2.1107</td>\n",
       "      <td>4.0</td>\n",
       "      <td>437.0</td>\n",
       "      <td>21.2</td>\n",
       "      <td>394.67</td>\n",
       "      <td>16.96</td>\n",
       "    </tr>\n",
       "    <tr>\n",
       "      <th>298</th>\n",
       "      <td>0.06466</td>\n",
       "      <td>70.0</td>\n",
       "      <td>2.24</td>\n",
       "      <td>0.0</td>\n",
       "      <td>0.400</td>\n",
       "      <td>6.345</td>\n",
       "      <td>20.1</td>\n",
       "      <td>7.8278</td>\n",
       "      <td>5.0</td>\n",
       "      <td>358.0</td>\n",
       "      <td>14.8</td>\n",
       "      <td>368.24</td>\n",
       "      <td>4.97</td>\n",
       "    </tr>\n",
       "    <tr>\n",
       "      <th>122</th>\n",
       "      <td>0.09299</td>\n",
       "      <td>0.0</td>\n",
       "      <td>25.65</td>\n",
       "      <td>0.0</td>\n",
       "      <td>0.581</td>\n",
       "      <td>5.961</td>\n",
       "      <td>92.9</td>\n",
       "      <td>2.0869</td>\n",
       "      <td>2.0</td>\n",
       "      <td>188.0</td>\n",
       "      <td>19.1</td>\n",
       "      <td>378.09</td>\n",
       "      <td>17.93</td>\n",
       "    </tr>\n",
       "    <tr>\n",
       "      <th>...</th>\n",
       "      <td>...</td>\n",
       "      <td>...</td>\n",
       "      <td>...</td>\n",
       "      <td>...</td>\n",
       "      <td>...</td>\n",
       "      <td>...</td>\n",
       "      <td>...</td>\n",
       "      <td>...</td>\n",
       "      <td>...</td>\n",
       "      <td>...</td>\n",
       "      <td>...</td>\n",
       "      <td>...</td>\n",
       "      <td>...</td>\n",
       "    </tr>\n",
       "    <tr>\n",
       "      <th>323</th>\n",
       "      <td>0.28392</td>\n",
       "      <td>0.0</td>\n",
       "      <td>7.38</td>\n",
       "      <td>0.0</td>\n",
       "      <td>0.493</td>\n",
       "      <td>5.708</td>\n",
       "      <td>74.3</td>\n",
       "      <td>4.7211</td>\n",
       "      <td>5.0</td>\n",
       "      <td>287.0</td>\n",
       "      <td>19.6</td>\n",
       "      <td>391.13</td>\n",
       "      <td>11.74</td>\n",
       "    </tr>\n",
       "    <tr>\n",
       "      <th>192</th>\n",
       "      <td>0.08664</td>\n",
       "      <td>45.0</td>\n",
       "      <td>3.44</td>\n",
       "      <td>0.0</td>\n",
       "      <td>0.437</td>\n",
       "      <td>7.178</td>\n",
       "      <td>26.3</td>\n",
       "      <td>6.4798</td>\n",
       "      <td>5.0</td>\n",
       "      <td>398.0</td>\n",
       "      <td>15.2</td>\n",
       "      <td>390.49</td>\n",
       "      <td>2.87</td>\n",
       "    </tr>\n",
       "    <tr>\n",
       "      <th>117</th>\n",
       "      <td>0.15098</td>\n",
       "      <td>0.0</td>\n",
       "      <td>10.01</td>\n",
       "      <td>0.0</td>\n",
       "      <td>0.547</td>\n",
       "      <td>6.021</td>\n",
       "      <td>82.6</td>\n",
       "      <td>2.7474</td>\n",
       "      <td>6.0</td>\n",
       "      <td>432.0</td>\n",
       "      <td>17.8</td>\n",
       "      <td>394.51</td>\n",
       "      <td>10.30</td>\n",
       "    </tr>\n",
       "    <tr>\n",
       "      <th>47</th>\n",
       "      <td>0.22927</td>\n",
       "      <td>0.0</td>\n",
       "      <td>6.91</td>\n",
       "      <td>0.0</td>\n",
       "      <td>0.448</td>\n",
       "      <td>6.030</td>\n",
       "      <td>85.5</td>\n",
       "      <td>5.6894</td>\n",
       "      <td>3.0</td>\n",
       "      <td>233.0</td>\n",
       "      <td>17.9</td>\n",
       "      <td>392.74</td>\n",
       "      <td>18.80</td>\n",
       "    </tr>\n",
       "    <tr>\n",
       "      <th>172</th>\n",
       "      <td>0.13914</td>\n",
       "      <td>0.0</td>\n",
       "      <td>4.05</td>\n",
       "      <td>0.0</td>\n",
       "      <td>0.510</td>\n",
       "      <td>5.572</td>\n",
       "      <td>88.5</td>\n",
       "      <td>2.5961</td>\n",
       "      <td>5.0</td>\n",
       "      <td>296.0</td>\n",
       "      <td>16.6</td>\n",
       "      <td>396.90</td>\n",
       "      <td>14.69</td>\n",
       "    </tr>\n",
       "  </tbody>\n",
       "</table>\n",
       "<p>354 rows × 13 columns</p>\n",
       "</div>"
      ],
      "text/plain": [
       "        CRIM    ZN  INDUS  CHAS    NOX     RM    AGE     DIS  RAD    TAX  \\\n",
       "141  1.62864   0.0  21.89   0.0  0.624  5.019  100.0  1.4394  4.0  437.0   \n",
       "272  0.11460  20.0   6.96   0.0  0.464  6.538   58.7  3.9175  3.0  223.0   \n",
       "135  0.55778   0.0  21.89   0.0  0.624  6.335   98.2  2.1107  4.0  437.0   \n",
       "298  0.06466  70.0   2.24   0.0  0.400  6.345   20.1  7.8278  5.0  358.0   \n",
       "122  0.09299   0.0  25.65   0.0  0.581  5.961   92.9  2.0869  2.0  188.0   \n",
       "..       ...   ...    ...   ...    ...    ...    ...     ...  ...    ...   \n",
       "323  0.28392   0.0   7.38   0.0  0.493  5.708   74.3  4.7211  5.0  287.0   \n",
       "192  0.08664  45.0   3.44   0.0  0.437  7.178   26.3  6.4798  5.0  398.0   \n",
       "117  0.15098   0.0  10.01   0.0  0.547  6.021   82.6  2.7474  6.0  432.0   \n",
       "47   0.22927   0.0   6.91   0.0  0.448  6.030   85.5  5.6894  3.0  233.0   \n",
       "172  0.13914   0.0   4.05   0.0  0.510  5.572   88.5  2.5961  5.0  296.0   \n",
       "\n",
       "     PTRATIO       B  LSTAT  \n",
       "141     21.2  396.90  34.41  \n",
       "272     18.6  394.96   7.73  \n",
       "135     21.2  394.67  16.96  \n",
       "298     14.8  368.24   4.97  \n",
       "122     19.1  378.09  17.93  \n",
       "..       ...     ...    ...  \n",
       "323     19.6  391.13  11.74  \n",
       "192     15.2  390.49   2.87  \n",
       "117     17.8  394.51  10.30  \n",
       "47      17.9  392.74  18.80  \n",
       "172     16.6  396.90  14.69  \n",
       "\n",
       "[354 rows x 13 columns]"
      ]
     },
     "execution_count": 77,
     "metadata": {},
     "output_type": "execute_result"
    }
   ],
   "source": [
    "X_train"
   ]
  },
  {
   "cell_type": "code",
   "execution_count": 78,
   "id": "52f4567d",
   "metadata": {},
   "outputs": [
    {
     "data": {
      "text/html": [
       "<div>\n",
       "<style scoped>\n",
       "    .dataframe tbody tr th:only-of-type {\n",
       "        vertical-align: middle;\n",
       "    }\n",
       "\n",
       "    .dataframe tbody tr th {\n",
       "        vertical-align: top;\n",
       "    }\n",
       "\n",
       "    .dataframe thead th {\n",
       "        text-align: right;\n",
       "    }\n",
       "</style>\n",
       "<table border=\"1\" class=\"dataframe\">\n",
       "  <thead>\n",
       "    <tr style=\"text-align: right;\">\n",
       "      <th></th>\n",
       "      <th>CRIM</th>\n",
       "      <th>ZN</th>\n",
       "      <th>INDUS</th>\n",
       "      <th>CHAS</th>\n",
       "      <th>NOX</th>\n",
       "      <th>RM</th>\n",
       "      <th>AGE</th>\n",
       "      <th>DIS</th>\n",
       "      <th>RAD</th>\n",
       "      <th>TAX</th>\n",
       "      <th>PTRATIO</th>\n",
       "      <th>B</th>\n",
       "      <th>LSTAT</th>\n",
       "    </tr>\n",
       "  </thead>\n",
       "  <tbody>\n",
       "    <tr>\n",
       "      <th>329</th>\n",
       "      <td>0.06724</td>\n",
       "      <td>0.0</td>\n",
       "      <td>3.24</td>\n",
       "      <td>0.0</td>\n",
       "      <td>0.460</td>\n",
       "      <td>6.333</td>\n",
       "      <td>17.2</td>\n",
       "      <td>5.2146</td>\n",
       "      <td>4.0</td>\n",
       "      <td>430.0</td>\n",
       "      <td>16.9</td>\n",
       "      <td>375.21</td>\n",
       "      <td>7.34</td>\n",
       "    </tr>\n",
       "    <tr>\n",
       "      <th>371</th>\n",
       "      <td>9.23230</td>\n",
       "      <td>0.0</td>\n",
       "      <td>18.10</td>\n",
       "      <td>0.0</td>\n",
       "      <td>0.631</td>\n",
       "      <td>6.216</td>\n",
       "      <td>100.0</td>\n",
       "      <td>1.1691</td>\n",
       "      <td>24.0</td>\n",
       "      <td>666.0</td>\n",
       "      <td>20.2</td>\n",
       "      <td>366.15</td>\n",
       "      <td>9.53</td>\n",
       "    </tr>\n",
       "    <tr>\n",
       "      <th>219</th>\n",
       "      <td>0.11425</td>\n",
       "      <td>0.0</td>\n",
       "      <td>13.89</td>\n",
       "      <td>1.0</td>\n",
       "      <td>0.550</td>\n",
       "      <td>6.373</td>\n",
       "      <td>92.4</td>\n",
       "      <td>3.3633</td>\n",
       "      <td>5.0</td>\n",
       "      <td>276.0</td>\n",
       "      <td>16.4</td>\n",
       "      <td>393.74</td>\n",
       "      <td>10.50</td>\n",
       "    </tr>\n",
       "    <tr>\n",
       "      <th>403</th>\n",
       "      <td>24.80170</td>\n",
       "      <td>0.0</td>\n",
       "      <td>18.10</td>\n",
       "      <td>0.0</td>\n",
       "      <td>0.693</td>\n",
       "      <td>5.349</td>\n",
       "      <td>96.0</td>\n",
       "      <td>1.7028</td>\n",
       "      <td>24.0</td>\n",
       "      <td>666.0</td>\n",
       "      <td>20.2</td>\n",
       "      <td>396.90</td>\n",
       "      <td>19.77</td>\n",
       "    </tr>\n",
       "    <tr>\n",
       "      <th>78</th>\n",
       "      <td>0.05646</td>\n",
       "      <td>0.0</td>\n",
       "      <td>12.83</td>\n",
       "      <td>0.0</td>\n",
       "      <td>0.437</td>\n",
       "      <td>6.232</td>\n",
       "      <td>53.7</td>\n",
       "      <td>5.0141</td>\n",
       "      <td>5.0</td>\n",
       "      <td>398.0</td>\n",
       "      <td>18.7</td>\n",
       "      <td>386.40</td>\n",
       "      <td>12.34</td>\n",
       "    </tr>\n",
       "    <tr>\n",
       "      <th>...</th>\n",
       "      <td>...</td>\n",
       "      <td>...</td>\n",
       "      <td>...</td>\n",
       "      <td>...</td>\n",
       "      <td>...</td>\n",
       "      <td>...</td>\n",
       "      <td>...</td>\n",
       "      <td>...</td>\n",
       "      <td>...</td>\n",
       "      <td>...</td>\n",
       "      <td>...</td>\n",
       "      <td>...</td>\n",
       "      <td>...</td>\n",
       "    </tr>\n",
       "    <tr>\n",
       "      <th>4</th>\n",
       "      <td>0.06905</td>\n",
       "      <td>0.0</td>\n",
       "      <td>2.18</td>\n",
       "      <td>0.0</td>\n",
       "      <td>0.458</td>\n",
       "      <td>7.147</td>\n",
       "      <td>54.2</td>\n",
       "      <td>6.0622</td>\n",
       "      <td>3.0</td>\n",
       "      <td>222.0</td>\n",
       "      <td>18.7</td>\n",
       "      <td>396.90</td>\n",
       "      <td>5.33</td>\n",
       "    </tr>\n",
       "    <tr>\n",
       "      <th>428</th>\n",
       "      <td>7.36711</td>\n",
       "      <td>0.0</td>\n",
       "      <td>18.10</td>\n",
       "      <td>0.0</td>\n",
       "      <td>0.679</td>\n",
       "      <td>6.193</td>\n",
       "      <td>78.1</td>\n",
       "      <td>1.9356</td>\n",
       "      <td>24.0</td>\n",
       "      <td>666.0</td>\n",
       "      <td>20.2</td>\n",
       "      <td>96.73</td>\n",
       "      <td>21.52</td>\n",
       "    </tr>\n",
       "    <tr>\n",
       "      <th>385</th>\n",
       "      <td>16.81180</td>\n",
       "      <td>0.0</td>\n",
       "      <td>18.10</td>\n",
       "      <td>0.0</td>\n",
       "      <td>0.700</td>\n",
       "      <td>5.277</td>\n",
       "      <td>98.1</td>\n",
       "      <td>1.4261</td>\n",
       "      <td>24.0</td>\n",
       "      <td>666.0</td>\n",
       "      <td>20.2</td>\n",
       "      <td>396.90</td>\n",
       "      <td>30.81</td>\n",
       "    </tr>\n",
       "    <tr>\n",
       "      <th>308</th>\n",
       "      <td>0.49298</td>\n",
       "      <td>0.0</td>\n",
       "      <td>9.90</td>\n",
       "      <td>0.0</td>\n",
       "      <td>0.544</td>\n",
       "      <td>6.635</td>\n",
       "      <td>82.5</td>\n",
       "      <td>3.3175</td>\n",
       "      <td>4.0</td>\n",
       "      <td>304.0</td>\n",
       "      <td>18.4</td>\n",
       "      <td>396.90</td>\n",
       "      <td>4.54</td>\n",
       "    </tr>\n",
       "    <tr>\n",
       "      <th>5</th>\n",
       "      <td>0.02985</td>\n",
       "      <td>0.0</td>\n",
       "      <td>2.18</td>\n",
       "      <td>0.0</td>\n",
       "      <td>0.458</td>\n",
       "      <td>6.430</td>\n",
       "      <td>58.7</td>\n",
       "      <td>6.0622</td>\n",
       "      <td>3.0</td>\n",
       "      <td>222.0</td>\n",
       "      <td>18.7</td>\n",
       "      <td>394.12</td>\n",
       "      <td>5.21</td>\n",
       "    </tr>\n",
       "  </tbody>\n",
       "</table>\n",
       "<p>152 rows × 13 columns</p>\n",
       "</div>"
      ],
      "text/plain": [
       "         CRIM   ZN  INDUS  CHAS    NOX     RM    AGE     DIS   RAD    TAX  \\\n",
       "329   0.06724  0.0   3.24   0.0  0.460  6.333   17.2  5.2146   4.0  430.0   \n",
       "371   9.23230  0.0  18.10   0.0  0.631  6.216  100.0  1.1691  24.0  666.0   \n",
       "219   0.11425  0.0  13.89   1.0  0.550  6.373   92.4  3.3633   5.0  276.0   \n",
       "403  24.80170  0.0  18.10   0.0  0.693  5.349   96.0  1.7028  24.0  666.0   \n",
       "78    0.05646  0.0  12.83   0.0  0.437  6.232   53.7  5.0141   5.0  398.0   \n",
       "..        ...  ...    ...   ...    ...    ...    ...     ...   ...    ...   \n",
       "4     0.06905  0.0   2.18   0.0  0.458  7.147   54.2  6.0622   3.0  222.0   \n",
       "428   7.36711  0.0  18.10   0.0  0.679  6.193   78.1  1.9356  24.0  666.0   \n",
       "385  16.81180  0.0  18.10   0.0  0.700  5.277   98.1  1.4261  24.0  666.0   \n",
       "308   0.49298  0.0   9.90   0.0  0.544  6.635   82.5  3.3175   4.0  304.0   \n",
       "5     0.02985  0.0   2.18   0.0  0.458  6.430   58.7  6.0622   3.0  222.0   \n",
       "\n",
       "     PTRATIO       B  LSTAT  \n",
       "329     16.9  375.21   7.34  \n",
       "371     20.2  366.15   9.53  \n",
       "219     16.4  393.74  10.50  \n",
       "403     20.2  396.90  19.77  \n",
       "78      18.7  386.40  12.34  \n",
       "..       ...     ...    ...  \n",
       "4       18.7  396.90   5.33  \n",
       "428     20.2   96.73  21.52  \n",
       "385     20.2  396.90  30.81  \n",
       "308     18.4  396.90   4.54  \n",
       "5       18.7  394.12   5.21  \n",
       "\n",
       "[152 rows x 13 columns]"
      ]
     },
     "execution_count": 78,
     "metadata": {},
     "output_type": "execute_result"
    }
   ],
   "source": [
    "X_test"
   ]
  },
  {
   "cell_type": "code",
   "execution_count": 79,
   "id": "11ac2813",
   "metadata": {},
   "outputs": [
    {
     "data": {
      "text/html": [
       "<div>\n",
       "<style scoped>\n",
       "    .dataframe tbody tr th:only-of-type {\n",
       "        vertical-align: middle;\n",
       "    }\n",
       "\n",
       "    .dataframe tbody tr th {\n",
       "        vertical-align: top;\n",
       "    }\n",
       "\n",
       "    .dataframe thead th {\n",
       "        text-align: right;\n",
       "    }\n",
       "</style>\n",
       "<table border=\"1\" class=\"dataframe\">\n",
       "  <thead>\n",
       "    <tr style=\"text-align: right;\">\n",
       "      <th></th>\n",
       "      <th>Price</th>\n",
       "    </tr>\n",
       "  </thead>\n",
       "  <tbody>\n",
       "    <tr>\n",
       "      <th>141</th>\n",
       "      <td>14.4</td>\n",
       "    </tr>\n",
       "    <tr>\n",
       "      <th>272</th>\n",
       "      <td>24.4</td>\n",
       "    </tr>\n",
       "    <tr>\n",
       "      <th>135</th>\n",
       "      <td>18.1</td>\n",
       "    </tr>\n",
       "    <tr>\n",
       "      <th>298</th>\n",
       "      <td>22.5</td>\n",
       "    </tr>\n",
       "    <tr>\n",
       "      <th>122</th>\n",
       "      <td>20.5</td>\n",
       "    </tr>\n",
       "    <tr>\n",
       "      <th>...</th>\n",
       "      <td>...</td>\n",
       "    </tr>\n",
       "    <tr>\n",
       "      <th>323</th>\n",
       "      <td>18.5</td>\n",
       "    </tr>\n",
       "    <tr>\n",
       "      <th>192</th>\n",
       "      <td>36.4</td>\n",
       "    </tr>\n",
       "    <tr>\n",
       "      <th>117</th>\n",
       "      <td>19.2</td>\n",
       "    </tr>\n",
       "    <tr>\n",
       "      <th>47</th>\n",
       "      <td>16.6</td>\n",
       "    </tr>\n",
       "    <tr>\n",
       "      <th>172</th>\n",
       "      <td>23.1</td>\n",
       "    </tr>\n",
       "  </tbody>\n",
       "</table>\n",
       "<p>354 rows × 1 columns</p>\n",
       "</div>"
      ],
      "text/plain": [
       "     Price\n",
       "141   14.4\n",
       "272   24.4\n",
       "135   18.1\n",
       "298   22.5\n",
       "122   20.5\n",
       "..     ...\n",
       "323   18.5\n",
       "192   36.4\n",
       "117   19.2\n",
       "47    16.6\n",
       "172   23.1\n",
       "\n",
       "[354 rows x 1 columns]"
      ]
     },
     "execution_count": 79,
     "metadata": {},
     "output_type": "execute_result"
    }
   ],
   "source": [
    "y_train"
   ]
  },
  {
   "cell_type": "code",
   "execution_count": 80,
   "id": "72e64868",
   "metadata": {},
   "outputs": [
    {
     "data": {
      "text/html": [
       "<div>\n",
       "<style scoped>\n",
       "    .dataframe tbody tr th:only-of-type {\n",
       "        vertical-align: middle;\n",
       "    }\n",
       "\n",
       "    .dataframe tbody tr th {\n",
       "        vertical-align: top;\n",
       "    }\n",
       "\n",
       "    .dataframe thead th {\n",
       "        text-align: right;\n",
       "    }\n",
       "</style>\n",
       "<table border=\"1\" class=\"dataframe\">\n",
       "  <thead>\n",
       "    <tr style=\"text-align: right;\">\n",
       "      <th></th>\n",
       "      <th>Price</th>\n",
       "    </tr>\n",
       "  </thead>\n",
       "  <tbody>\n",
       "    <tr>\n",
       "      <th>329</th>\n",
       "      <td>22.6</td>\n",
       "    </tr>\n",
       "    <tr>\n",
       "      <th>371</th>\n",
       "      <td>50.0</td>\n",
       "    </tr>\n",
       "    <tr>\n",
       "      <th>219</th>\n",
       "      <td>23.0</td>\n",
       "    </tr>\n",
       "    <tr>\n",
       "      <th>403</th>\n",
       "      <td>8.3</td>\n",
       "    </tr>\n",
       "    <tr>\n",
       "      <th>78</th>\n",
       "      <td>21.2</td>\n",
       "    </tr>\n",
       "    <tr>\n",
       "      <th>...</th>\n",
       "      <td>...</td>\n",
       "    </tr>\n",
       "    <tr>\n",
       "      <th>4</th>\n",
       "      <td>36.2</td>\n",
       "    </tr>\n",
       "    <tr>\n",
       "      <th>428</th>\n",
       "      <td>11.0</td>\n",
       "    </tr>\n",
       "    <tr>\n",
       "      <th>385</th>\n",
       "      <td>7.2</td>\n",
       "    </tr>\n",
       "    <tr>\n",
       "      <th>308</th>\n",
       "      <td>22.8</td>\n",
       "    </tr>\n",
       "    <tr>\n",
       "      <th>5</th>\n",
       "      <td>28.7</td>\n",
       "    </tr>\n",
       "  </tbody>\n",
       "</table>\n",
       "<p>152 rows × 1 columns</p>\n",
       "</div>"
      ],
      "text/plain": [
       "     Price\n",
       "329   22.6\n",
       "371   50.0\n",
       "219   23.0\n",
       "403    8.3\n",
       "78    21.2\n",
       "..     ...\n",
       "4     36.2\n",
       "428   11.0\n",
       "385    7.2\n",
       "308   22.8\n",
       "5     28.7\n",
       "\n",
       "[152 rows x 1 columns]"
      ]
     },
     "execution_count": 80,
     "metadata": {},
     "output_type": "execute_result"
    }
   ],
   "source": [
    "y_test"
   ]
  },
  {
   "cell_type": "markdown",
   "id": "471fb5f0",
   "metadata": {},
   "source": [
    "# Standardize the dataset"
   ]
  },
  {
   "cell_type": "markdown",
   "id": "8a4fc50f",
   "metadata": {},
   "source": [
    "Q Why do you standardize the dataset in linear regression?"
   ]
  },
  {
   "cell_type": "markdown",
   "id": "8e250cf2",
   "metadata": {},
   "source": [
    "Internally we use gradient descent. Our main aim is to come to the global minima. and to come to the global minima we have to make sure that all our independent features should be in the same scale. Because of that the conversions will happen quickly."
   ]
  },
  {
   "cell_type": "code",
   "execution_count": 81,
   "id": "72a0c009",
   "metadata": {},
   "outputs": [],
   "source": [
    "from sklearn.preprocessing import StandardScaler "
   ]
  },
  {
   "cell_type": "code",
   "execution_count": 82,
   "id": "387ccd5c",
   "metadata": {},
   "outputs": [],
   "source": [
    "scaler = StandardScaler()"
   ]
  },
  {
   "cell_type": "code",
   "execution_count": 83,
   "id": "2e89bce5",
   "metadata": {},
   "outputs": [],
   "source": [
    "X_train = scaler.fit_transform(X_train)"
   ]
  },
  {
   "cell_type": "code",
   "execution_count": 84,
   "id": "c2a90c7b",
   "metadata": {},
   "outputs": [],
   "source": [
    "X_test = scaler.transform(X_test)"
   ]
  },
  {
   "cell_type": "code",
   "execution_count": 85,
   "id": "08a969ae",
   "metadata": {},
   "outputs": [
    {
     "data": {
      "text/plain": [
       "array([[-0.20735619, -0.49997924,  1.54801583, ...,  1.2272573 ,\n",
       "         0.42454294,  3.10807269],\n",
       "       [-0.38886492,  0.34677427, -0.58974728, ...,  0.05696346,\n",
       "         0.40185312, -0.66643035],\n",
       "       [-0.33573486, -0.49997924,  1.54801583, ...,  1.2272573 ,\n",
       "         0.39846135,  0.63936662],\n",
       "       ...,\n",
       "       [-0.38450355, -0.49997924, -0.15303077, ..., -0.30312696,\n",
       "         0.39659002, -0.30284441],\n",
       "       [-0.37511786, -0.49997924, -0.59690657, ..., -0.25811566,\n",
       "         0.37588849,  0.89967717],\n",
       "       [-0.38592298, -0.49997924, -1.00641779, ..., -0.84326258,\n",
       "         0.42454294,  0.31822262]])"
      ]
     },
     "execution_count": 85,
     "metadata": {},
     "output_type": "execute_result"
    }
   ],
   "source": [
    "X_train"
   ]
  },
  {
   "cell_type": "code",
   "execution_count": 86,
   "id": "f39e72b0",
   "metadata": {},
   "outputs": [
    {
     "data": {
      "text/plain": [
       "array([[-0.39454262, -0.49997924, -1.12239824, ..., -0.70822867,\n",
       "         0.17086147, -0.72160487],\n",
       "       [ 0.70419882, -0.49997924,  1.00534187, ...,  0.77714428,\n",
       "         0.0648977 , -0.41177872],\n",
       "       [-0.38890688, -0.49997924,  0.4025299 , ..., -0.93328518,\n",
       "         0.38758427, -0.27454978],\n",
       "       ...,\n",
       "       [ 1.61285743, -0.49997924,  1.00534187, ...,  0.77714428,\n",
       "         0.42454294,  2.59876943],\n",
       "       [-0.34350332, -0.49997924, -0.1687812 , ..., -0.03305915,\n",
       "         0.42454294, -1.11772962],\n",
       "       [-0.39902507, -0.49997924, -1.27417512, ...,  0.10197476,\n",
       "         0.39202867, -1.02294263]])"
      ]
     },
     "execution_count": 86,
     "metadata": {},
     "output_type": "execute_result"
    }
   ],
   "source": [
    "X_test"
   ]
  },
  {
   "cell_type": "markdown",
   "id": "9e1e413c",
   "metadata": {},
   "source": [
    "# Training of the model"
   ]
  },
  {
   "cell_type": "code",
   "execution_count": 89,
   "id": "510f4bc0",
   "metadata": {},
   "outputs": [],
   "source": [
    "from sklearn.linear_model import LinearRegression"
   ]
  },
  {
   "cell_type": "code",
   "execution_count": 90,
   "id": "15aaa487",
   "metadata": {},
   "outputs": [],
   "source": [
    "regression = LinearRegression()"
   ]
  },
  {
   "cell_type": "code",
   "execution_count": 91,
   "id": "14d06100",
   "metadata": {},
   "outputs": [
    {
     "data": {
      "text/plain": [
       "LinearRegression()"
      ]
     },
     "execution_count": 91,
     "metadata": {},
     "output_type": "execute_result"
    }
   ],
   "source": [
    "regression.fit(X_train, y_train)"
   ]
  },
  {
   "cell_type": "markdown",
   "id": "fec43207",
   "metadata": {},
   "source": [
    "Here we are creating a hyperplane of so many independent variables"
   ]
  },
  {
   "cell_type": "markdown",
   "id": "8e7a228c",
   "metadata": {},
   "source": [
    "Whenever we create a linear regression plane there are always 2 things present    1) coefficients   2) intercept"
   ]
  },
  {
   "cell_type": "code",
   "execution_count": 92,
   "id": "36f762cb",
   "metadata": {},
   "outputs": [
    {
     "name": "stdout",
     "output_type": "stream",
     "text": [
      "[[-1.01190059  1.05028027  0.07920966  0.618962   -1.87369102  2.70526979\n",
      "  -0.27957264 -3.09766486  2.09689998 -1.88606339 -2.26110466  0.58264309\n",
      "  -3.44049838]]\n"
     ]
    }
   ],
   "source": [
    "print(regression.coef_)"
   ]
  },
  {
   "cell_type": "markdown",
   "id": "5b97a114",
   "metadata": {},
   "source": [
    "here first coefficient determines that whenever the dependent variable ie. price increases, then there is coeff of regression of CRIM ie criminal rate is -1.01190059 that is negative that is decreases."
   ]
  },
  {
   "cell_type": "code",
   "execution_count": 93,
   "id": "a44e55ab",
   "metadata": {},
   "outputs": [
    {
     "name": "stdout",
     "output_type": "stream",
     "text": [
      "[22.74548023]\n"
     ]
    }
   ],
   "source": [
    "print(regression.intercept_)"
   ]
  },
  {
   "cell_type": "markdown",
   "id": "38daa780",
   "metadata": {},
   "source": [
    "There is only 1 interept for all coefficients."
   ]
  },
  {
   "cell_type": "code",
   "execution_count": 94,
   "id": "4bfcb5aa",
   "metadata": {},
   "outputs": [
    {
     "data": {
      "text/plain": [
       "{'copy_X': True,\n",
       " 'fit_intercept': True,\n",
       " 'n_jobs': None,\n",
       " 'normalize': 'deprecated',\n",
       " 'positive': False}"
      ]
     },
     "execution_count": 94,
     "metadata": {},
     "output_type": "execute_result"
    }
   ],
   "source": [
    "# On which parameters the model has been trained?\n",
    "\n",
    "regression.get_params()"
   ]
  },
  {
   "cell_type": "markdown",
   "id": "65ccc2ff",
   "metadata": {},
   "source": [
    "# First we do prediction with test data and then we can predict with new data"
   ]
  },
  {
   "cell_type": "code",
   "execution_count": 95,
   "id": "d03d7894",
   "metadata": {},
   "outputs": [],
   "source": [
    "reg_pred = regression.predict(X_test)"
   ]
  },
  {
   "cell_type": "code",
   "execution_count": 96,
   "id": "27632aca",
   "metadata": {},
   "outputs": [
    {
     "data": {
      "text/plain": [
       "array([[24.9357079 ],\n",
       "       [23.75163164],\n",
       "       [29.32638296],\n",
       "       [11.97534566],\n",
       "       [21.37272478],\n",
       "       [19.19148525],\n",
       "       [20.5717479 ],\n",
       "       [21.21154015],\n",
       "       [19.04572003],\n",
       "       [20.35463238],\n",
       "       [ 5.44119126],\n",
       "       [16.93688709],\n",
       "       [17.15482272],\n",
       "       [ 5.3928209 ],\n",
       "       [40.20270696],\n",
       "       [32.31327348],\n",
       "       [22.46213268],\n",
       "       [36.50124666],\n",
       "       [31.03737014],\n",
       "       [23.17124551],\n",
       "       [24.74815321],\n",
       "       [24.49939403],\n",
       "       [20.6595791 ],\n",
       "       [30.4547583 ],\n",
       "       [22.32487164],\n",
       "       [10.18932894],\n",
       "       [17.44286422],\n",
       "       [18.26103077],\n",
       "       [35.63299326],\n",
       "       [20.81960303],\n",
       "       [18.27218007],\n",
       "       [17.72047628],\n",
       "       [19.33772473],\n",
       "       [23.62254823],\n",
       "       [28.97766856],\n",
       "       [19.45036239],\n",
       "       [11.13170639],\n",
       "       [24.81843595],\n",
       "       [18.05294835],\n",
       "       [15.59712226],\n",
       "       [26.21043403],\n",
       "       [20.81140432],\n",
       "       [22.17349382],\n",
       "       [15.48367365],\n",
       "       [22.62261604],\n",
       "       [24.88561528],\n",
       "       [19.74754478],\n",
       "       [23.0465628 ],\n",
       "       [ 9.84579105],\n",
       "       [24.36378793],\n",
       "       [21.47849008],\n",
       "       [17.62118176],\n",
       "       [24.39160873],\n",
       "       [29.95102691],\n",
       "       [13.57219422],\n",
       "       [21.53645439],\n",
       "       [20.53306273],\n",
       "       [15.03433182],\n",
       "       [14.3232289 ],\n",
       "       [22.11929299],\n",
       "       [17.07321915],\n",
       "       [21.54141094],\n",
       "       [32.96766968],\n",
       "       [31.371599  ],\n",
       "       [17.7860591 ],\n",
       "       [32.75069556],\n",
       "       [18.74795323],\n",
       "       [19.21428022],\n",
       "       [19.41970047],\n",
       "       [23.08087809],\n",
       "       [22.87732816],\n",
       "       [24.06399098],\n",
       "       [30.52824406],\n",
       "       [28.71453508],\n",
       "       [25.90763165],\n",
       "       [ 5.17596718],\n",
       "       [36.8709072 ],\n",
       "       [23.76983849],\n",
       "       [27.26064379],\n",
       "       [19.25849042],\n",
       "       [28.41860517],\n",
       "       [19.3008798 ],\n",
       "       [18.94922353],\n",
       "       [38.00154059],\n",
       "       [39.44096748],\n",
       "       [23.72297885],\n",
       "       [24.83722534],\n",
       "       [16.52015743],\n",
       "       [25.9970546 ],\n",
       "       [16.73997072],\n",
       "       [15.48656983],\n",
       "       [13.52825536],\n",
       "       [24.12884363],\n",
       "       [30.76919578],\n",
       "       [22.18731163],\n",
       "       [19.8848644 ],\n",
       "       [ 0.42275479],\n",
       "       [24.86785849],\n",
       "       [16.05692   ],\n",
       "       [17.42486412],\n",
       "       [25.49798527],\n",
       "       [22.35171315],\n",
       "       [32.66562689],\n",
       "       [22.04428746],\n",
       "       [27.29799885],\n",
       "       [23.20302026],\n",
       "       [ 6.86196574],\n",
       "       [14.869251  ],\n",
       "       [22.31804948],\n",
       "       [29.18125768],\n",
       "       [33.22568234],\n",
       "       [13.24392523],\n",
       "       [19.67195771],\n",
       "       [20.7502616 ],\n",
       "       [12.02271319],\n",
       "       [23.50067006],\n",
       "       [ 5.55662571],\n",
       "       [19.87634689],\n",
       "       [ 9.27059783],\n",
       "       [44.81787339],\n",
       "       [30.56017983],\n",
       "       [12.44394048],\n",
       "       [17.33192202],\n",
       "       [21.48313292],\n",
       "       [23.52664913],\n",
       "       [20.49877266],\n",
       "       [35.09161099],\n",
       "       [13.22639935],\n",
       "       [20.70321163],\n",
       "       [35.35582833],\n",
       "       [19.45050576],\n",
       "       [13.81603561],\n",
       "       [14.15654562],\n",
       "       [23.03678503],\n",
       "       [15.07521258],\n",
       "       [30.9662041 ],\n",
       "       [25.23236632],\n",
       "       [15.43763716],\n",
       "       [24.06406534],\n",
       "       [ 9.93080346],\n",
       "       [15.01618901],\n",
       "       [21.06098873],\n",
       "       [32.87115732],\n",
       "       [27.80927747],\n",
       "       [25.91293794],\n",
       "       [15.27877362],\n",
       "       [30.97489404],\n",
       "       [27.81107682],\n",
       "       [14.5068157 ],\n",
       "       [ 7.57369946],\n",
       "       [28.3348068 ],\n",
       "       [25.04341153]])"
      ]
     },
     "execution_count": 96,
     "metadata": {},
     "output_type": "execute_result"
    }
   ],
   "source": [
    "reg_pred"
   ]
  },
  {
   "cell_type": "markdown",
   "id": "da0b7387",
   "metadata": {},
   "source": [
    "Now this reg_pred is done on X values and now we have to comapre this with y values."
   ]
  },
  {
   "cell_type": "code",
   "execution_count": 97,
   "id": "4129f9d7",
   "metadata": {},
   "outputs": [
    {
     "data": {
      "text/plain": [
       "<matplotlib.collections.PathCollection at 0x2e38987f490>"
      ]
     },
     "execution_count": 97,
     "metadata": {},
     "output_type": "execute_result"
    },
    {
     "data": {
      "image/png": "[encoded data removed]",
      "text/plain": [
       "<Figure size 640x480 with 1 Axes>"
      ]
     },
     "metadata": {},
     "output_type": "display_data"
    }
   ],
   "source": [
    "plt.scatter(y_test, reg_pred)"
   ]
  },
  {
   "cell_type": "markdown",
   "id": "3fe8761a",
   "metadata": {},
   "source": [
    "This is somewhat like linear. So we can say that we have achieved good prediction"
   ]
  },
  {
   "cell_type": "code",
   "execution_count": 98,
   "id": "415eca1d",
   "metadata": {},
   "outputs": [],
   "source": [
    "# Residuals\n",
    "\n",
    "residuals = y_test - reg_pred"
   ]
  },
  {
   "cell_type": "code",
   "execution_count": 99,
   "id": "3d32b981",
   "metadata": {},
   "outputs": [
    {
     "data": {
      "text/html": [
       "<div>\n",
       "<style scoped>\n",
       "    .dataframe tbody tr th:only-of-type {\n",
       "        vertical-align: middle;\n",
       "    }\n",
       "\n",
       "    .dataframe tbody tr th {\n",
       "        vertical-align: top;\n",
       "    }\n",
       "\n",
       "    .dataframe thead th {\n",
       "        text-align: right;\n",
       "    }\n",
       "</style>\n",
       "<table border=\"1\" class=\"dataframe\">\n",
       "  <thead>\n",
       "    <tr style=\"text-align: right;\">\n",
       "      <th></th>\n",
       "      <th>Price</th>\n",
       "    </tr>\n",
       "  </thead>\n",
       "  <tbody>\n",
       "    <tr>\n",
       "      <th>329</th>\n",
       "      <td>-2.335708</td>\n",
       "    </tr>\n",
       "    <tr>\n",
       "      <th>371</th>\n",
       "      <td>26.248368</td>\n",
       "    </tr>\n",
       "    <tr>\n",
       "      <th>219</th>\n",
       "      <td>-6.326383</td>\n",
       "    </tr>\n",
       "    <tr>\n",
       "      <th>403</th>\n",
       "      <td>-3.675346</td>\n",
       "    </tr>\n",
       "    <tr>\n",
       "      <th>78</th>\n",
       "      <td>-0.172725</td>\n",
       "    </tr>\n",
       "    <tr>\n",
       "      <th>...</th>\n",
       "      <td>...</td>\n",
       "    </tr>\n",
       "    <tr>\n",
       "      <th>4</th>\n",
       "      <td>8.388923</td>\n",
       "    </tr>\n",
       "    <tr>\n",
       "      <th>428</th>\n",
       "      <td>-3.506816</td>\n",
       "    </tr>\n",
       "    <tr>\n",
       "      <th>385</th>\n",
       "      <td>-0.373699</td>\n",
       "    </tr>\n",
       "    <tr>\n",
       "      <th>308</th>\n",
       "      <td>-5.534807</td>\n",
       "    </tr>\n",
       "    <tr>\n",
       "      <th>5</th>\n",
       "      <td>3.656588</td>\n",
       "    </tr>\n",
       "  </tbody>\n",
       "</table>\n",
       "<p>152 rows × 1 columns</p>\n",
       "</div>"
      ],
      "text/plain": [
       "         Price\n",
       "329  -2.335708\n",
       "371  26.248368\n",
       "219  -6.326383\n",
       "403  -3.675346\n",
       "78   -0.172725\n",
       "..         ...\n",
       "4     8.388923\n",
       "428  -3.506816\n",
       "385  -0.373699\n",
       "308  -5.534807\n",
       "5     3.656588\n",
       "\n",
       "[152 rows x 1 columns]"
      ]
     },
     "execution_count": 99,
     "metadata": {},
     "output_type": "execute_result"
    }
   ],
   "source": [
    "residuals"
   ]
  },
  {
   "cell_type": "markdown",
   "id": "0de88511",
   "metadata": {},
   "source": [
    "# Performance matrices"
   ]
  },
  {
   "cell_type": "code",
   "execution_count": 101,
   "id": "b3619e12",
   "metadata": {},
   "outputs": [],
   "source": [
    "from sklearn.metrics import mean_squared_error\n",
    "from sklearn.metrics import mean_absolute_error"
   ]
  },
  {
   "cell_type": "code",
   "execution_count": 102,
   "id": "03a937c6",
   "metadata": {},
   "outputs": [
    {
     "name": "stdout",
     "output_type": "stream",
     "text": [
      "3.6099040603818127\n",
      "27.195965766883198\n",
      "5.214975145375402\n"
     ]
    }
   ],
   "source": [
    "print(mean_absolute_error(y_test, reg_pred))\n",
    "print(mean_squared_error(y_test, reg_pred))\n",
    "print(np.sqrt(mean_squared_error(y_test, reg_pred)))"
   ]
  },
  {
   "cell_type": "markdown",
   "id": "8c37cd27",
   "metadata": {},
   "source": [
    "# R square and adjusted r squared"
   ]
  },
  {
   "cell_type": "code",
   "execution_count": 103,
   "id": "a3bf2d47",
   "metadata": {},
   "outputs": [
    {
     "data": {
      "text/plain": [
       "0.6733825506400196"
      ]
     },
     "execution_count": 103,
     "metadata": {},
     "output_type": "execute_result"
    }
   ],
   "source": [
    "from sklearn.metrics import r2_score\n",
    "score = r2_score(y_test, reg_pred)\n",
    "score"
   ]
  },
  {
   "cell_type": "code",
   "execution_count": 104,
   "id": "cbc6c546",
   "metadata": {},
   "outputs": [
    {
     "data": {
      "text/plain": [
       "0.642614240193065"
      ]
     },
     "execution_count": 104,
     "metadata": {},
     "output_type": "execute_result"
    }
   ],
   "source": [
    "# adjusted r squared\n",
    "\n",
    "1-(1 - score)*(len(y_test) - 1) / (len(y_test) - X_test.shape[-1] - 1)"
   ]
  },
  {
   "cell_type": "markdown",
   "id": "e2ffc34b",
   "metadata": {},
   "source": [
    "since, 0.67 > 0.64.... our model is perdicting very good."
   ]
  },
  {
   "cell_type": "markdown",
   "id": "91115580",
   "metadata": {},
   "source": [
    "# New data prediction"
   ]
  },
  {
   "cell_type": "code",
   "execution_count": 106,
   "id": "c034c37a",
   "metadata": {},
   "outputs": [
    {
     "data": {
      "text/plain": [
       "(13,)"
      ]
     },
     "execution_count": 106,
     "metadata": {},
     "output_type": "execute_result"
    }
   ],
   "source": [
    "boston.data[0].shape"
   ]
  },
  {
   "cell_type": "markdown",
   "id": "2bf80902",
   "metadata": {},
   "source": [
    "One dimensional data is there. There are 13 columns are selected only without specification of rows."
   ]
  },
  {
   "cell_type": "code",
   "execution_count": 111,
   "id": "b96954f4",
   "metadata": {},
   "outputs": [
    {
     "data": {
      "text/plain": [
       "array([[6.320e-03, 1.800e+01, 2.310e+00, 0.000e+00, 5.380e-01, 6.575e+00,\n",
       "        6.520e+01, 4.090e+00, 1.000e+00, 2.960e+02, 1.530e+01, 3.969e+02,\n",
       "        4.980e+00]])"
      ]
     },
     "execution_count": 111,
     "metadata": {},
     "output_type": "execute_result"
    }
   ],
   "source": [
    "boston.data[0].reshape(1,-1)"
   ]
  },
  {
   "cell_type": "code",
   "execution_count": 112,
   "id": "7e322087",
   "metadata": {},
   "outputs": [
    {
     "data": {
      "text/plain": [
       "(1, 13)"
      ]
     },
     "execution_count": 112,
     "metadata": {},
     "output_type": "execute_result"
    }
   ],
   "source": [
    "boston.data[0].reshape(1,-1).shape"
   ]
  },
  {
   "cell_type": "markdown",
   "id": "34d0ca37",
   "metadata": {},
   "source": [
    "One row is selected here and 13 columns"
   ]
  },
  {
   "cell_type": "markdown",
   "id": "1cd3197d",
   "metadata": {},
   "source": [
    "Whenever we get a new data, we have to first do standardisation of that data for same scaling with all independent variables."
   ]
  },
  {
   "cell_type": "markdown",
   "id": "0e7684fb",
   "metadata": {},
   "source": [
    "# Standardize/Transformation of the new data."
   ]
  },
  {
   "cell_type": "code",
   "execution_count": 119,
   "id": "e5e7aa0f",
   "metadata": {},
   "outputs": [
    {
     "name": "stderr",
     "output_type": "stream",
     "text": [
      "C:\\Users\\Dell\\anaconda3\\lib\\site-packages\\sklearn\\base.py:450: UserWarning: X does not have valid feature names, but StandardScaler was fitted with feature names\n",
      "  warnings.warn(\n"
     ]
    }
   ],
   "source": [
    "scaled_new_data = scaler.transform(boston.data[0].reshape(1,-1))"
   ]
  },
  {
   "cell_type": "code",
   "execution_count": 120,
   "id": "4cb7273d",
   "metadata": {},
   "outputs": [
    {
     "data": {
      "text/plain": [
       "array([[30.29079542]])"
      ]
     },
     "execution_count": 120,
     "metadata": {},
     "output_type": "execute_result"
    }
   ],
   "source": [
    "regression.predict(scaled_new_data)"
   ]
  },
  {
   "cell_type": "code",
   "execution_count": null,
   "id": "e53e63f7",
   "metadata": {},
   "outputs": [],
   "source": []
  },
  {
   "cell_type": "markdown",
   "id": "7213175b",
   "metadata": {},
   "source": [
    "In Python, the pickle module is used for serializing and deserializing Python objects. It allows you to convert complex data structures, such as lists, dictionaries, classes, and more, into a binary format that can be easily stored in a file or transmitted over the network. The process of converting objects into a byte stream is called \"pickling,\" and the reverse process of reconstructing objects from a byte stream is called \"unpickling.\""
   ]
  },
  {
   "cell_type": "markdown",
   "id": "9144caee",
   "metadata": {},
   "source": [
    "# Pickling the model file for deployment"
   ]
  },
  {
   "cell_type": "code",
   "execution_count": 121,
   "id": "3e56d092",
   "metadata": {},
   "outputs": [],
   "source": [
    "import pickle"
   ]
  },
  {
   "cell_type": "code",
   "execution_count": 127,
   "id": "d2ea0ef3",
   "metadata": {},
   "outputs": [],
   "source": [
    " #You can pickle an object and save it to a file using the pickle.dump() method:\n",
    "    \n",
    "pickle.dump(regression, open('RegressionModel.pkl', 'wb'))      "
   ]
  },
  {
   "cell_type": "code",
   "execution_count": 128,
   "id": "25faee27",
   "metadata": {},
   "outputs": [],
   "source": [
    "#  To retrieve the pickled data from the file and reconstruct the original object, you can use the pickle.load() method:\n",
    "\n",
    "pickled_model = pickle.load(open('RegressionModel.pkl', 'rb'))    "
   ]
  },
  {
   "cell_type": "code",
   "execution_count": 129,
   "id": "659ed711",
   "metadata": {},
   "outputs": [
    {
     "data": {
      "text/plain": [
       "array([[30.29079542]])"
      ]
     },
     "execution_count": 129,
     "metadata": {},
     "output_type": "execute_result"
    }
   ],
   "source": [
    "# Prediction\n",
    "pickled_model.predict(scaled_new_data)"
   ]
  },
  {
   "cell_type": "code",
   "execution_count": null,
   "id": "ab47a373",
   "metadata": {},
   "outputs": [],
   "source": []
  }
 ],
 "metadata": {
  "kernelspec": {
   "display_name": "Python 3 (ipykernel)",
   "language": "python",
   "name": "python3"
  },
  "language_info": {
   "codemirror_mode": {
    "name": "ipython",
    "version": 3
   },
   "file_extension": ".py",
   "mimetype": "text/x-python",
   "name": "python",
   "nbconvert_exporter": "python",
   "pygments_lexer": "ipython3",
   "version": "3.11.5"
  }
 },
 "nbformat": 4,
 "nbformat_minor": 5
}
